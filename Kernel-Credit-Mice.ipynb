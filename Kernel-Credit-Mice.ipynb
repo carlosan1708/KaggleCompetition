{
 "cells": [
  {
   "cell_type": "code",
   "execution_count": 36,
   "metadata": {},
   "outputs": [
    {
     "name": "stdout",
     "output_type": "stream",
     "text": [
      "Checking whether there is an H2O instance running at http://localhost:54321. connected.\n"
     ]
    },
    {
     "data": {
      "text/html": [
       "<div style=\"overflow:auto\"><table style=\"width:50%\"><tr><td>H2O cluster uptime:</td>\n",
       "<td>33 mins 59 secs</td></tr>\n",
       "<tr><td>H2O cluster timezone:</td>\n",
       "<td>America/Regina</td></tr>\n",
       "<tr><td>H2O data parsing timezone:</td>\n",
       "<td>UTC</td></tr>\n",
       "<tr><td>H2O cluster version:</td>\n",
       "<td>3.18.0.11</td></tr>\n",
       "<tr><td>H2O cluster version age:</td>\n",
       "<td>27 days </td></tr>\n",
       "<tr><td>H2O cluster name:</td>\n",
       "<td>H2O_from_python_TheShogun_8anshe</td></tr>\n",
       "<tr><td>H2O cluster total nodes:</td>\n",
       "<td>1</td></tr>\n",
       "<tr><td>H2O cluster free memory:</td>\n",
       "<td>6.143 Gb</td></tr>\n",
       "<tr><td>H2O cluster total cores:</td>\n",
       "<td>8</td></tr>\n",
       "<tr><td>H2O cluster allowed cores:</td>\n",
       "<td>8</td></tr>\n",
       "<tr><td>H2O cluster status:</td>\n",
       "<td>locked, healthy</td></tr>\n",
       "<tr><td>H2O connection url:</td>\n",
       "<td>http://localhost:54321</td></tr>\n",
       "<tr><td>H2O connection proxy:</td>\n",
       "<td>None</td></tr>\n",
       "<tr><td>H2O internal security:</td>\n",
       "<td>False</td></tr>\n",
       "<tr><td>H2O API Extensions:</td>\n",
       "<td>Algos, AutoML, Core V3, Core V4</td></tr>\n",
       "<tr><td>Python version:</td>\n",
       "<td>3.6.5 final</td></tr></table></div>"
      ],
      "text/plain": [
       "--------------------------  --------------------------------\n",
       "H2O cluster uptime:         33 mins 59 secs\n",
       "H2O cluster timezone:       America/Regina\n",
       "H2O data parsing timezone:  UTC\n",
       "H2O cluster version:        3.18.0.11\n",
       "H2O cluster version age:    27 days\n",
       "H2O cluster name:           H2O_from_python_TheShogun_8anshe\n",
       "H2O cluster total nodes:    1\n",
       "H2O cluster free memory:    6.143 Gb\n",
       "H2O cluster total cores:    8\n",
       "H2O cluster allowed cores:  8\n",
       "H2O cluster status:         locked, healthy\n",
       "H2O connection url:         http://localhost:54321\n",
       "H2O connection proxy:\n",
       "H2O internal security:      False\n",
       "H2O API Extensions:         Algos, AutoML, Core V3, Core V4\n",
       "Python version:             3.6.5 final\n",
       "--------------------------  --------------------------------"
      ]
     },
     "metadata": {},
     "output_type": "display_data"
    }
   ],
   "source": [
    "import os\n",
    "import gc\n",
    "import pandas as pd\n",
    "import numpy as np\n",
    "import lightgbm as lgbm\n",
    "import xgboost as xgb\n",
    "import seaborn as sns\n",
    "from sklearn.preprocessing import LabelEncoder\n",
    "import matplotlib.pyplot as plt\n",
    "from sklearn.ensemble import RandomForestClassifier\n",
    "import fancyimpute as fi\n",
    "from featuretools import selection\n",
    "from sklearn.base import TransformerMixin\n",
    "\n",
    "from h2o.estimators.random_forest import H2ORandomForestEstimator\n",
    "from h2o.estimators.gbm import H2OGradientBoostingEstimator\n",
    "from h2o.estimators.stackedensemble import H2OStackedEnsembleEstimator\n",
    "from h2o.grid.grid_search import H2OGridSearch\n",
    "from __future__ import print_function\n",
    "import h2o\n",
    "from h2o.automl import H2OAutoML\n",
    "\n",
    "h2o.init(max_mem_size = '8g')\n"
   ]
  },
  {
   "cell_type": "markdown",
   "metadata": {},
   "source": [
    "Function Section"
   ]
  },
  {
   "cell_type": "code",
   "execution_count": 2,
   "metadata": {},
   "outputs": [],
   "source": [
    "def process_dataframe(input_df, encoder_dict=None):\n",
    "    \"\"\" Process a dataframe into a form useable by LightGBM \"\"\"\n",
    "\n",
    "    # Label encode categoricals\n",
    "    print('Label encoding categorical features...')\n",
    "    categorical_feats = input_df.columns[input_df.dtypes == 'object']\n",
    "    for feat in categorical_feats:\n",
    "        encoder = LabelEncoder()\n",
    "        input_df[feat] = encoder.fit_transform(input_df[feat].fillna('NULL'))\n",
    "    print('Label encoding complete.')\n",
    "\n",
    "    return input_df, categorical_feats.tolist(), encoder_dict"
   ]
  },
  {
   "cell_type": "code",
   "execution_count": 3,
   "metadata": {},
   "outputs": [],
   "source": [
    "def missing_val_ratio(df):\n",
    "    perc_na = (df.isnull().sum()/len(df))*100\n",
    "    ratio_na = perc_na.sort_values(ascending=False)\n",
    "    missing_data_table = pd.DataFrame({'% of Total Values' :ratio_na})\n",
    "    return missing_data_table"
   ]
  },
  {
   "cell_type": "code",
   "execution_count": 4,
   "metadata": {},
   "outputs": [],
   "source": [
    "# Memory saving function credit to https://www.kaggle.com/gemartin/load-data-reduce-memory-usage\n",
    "def reduce_mem_usage(df):\n",
    "    \"\"\" iterate through all the columns of a dataframe and modify the data type\n",
    "        to reduce memory usage.        \n",
    "    \"\"\"\n",
    "    start_mem = df.memory_usage().sum() / 1024**2\n",
    "    print('Memory usage of dataframe is {:.2f} MB'.format(start_mem))\n",
    "    \n",
    "    for col in df.columns:\n",
    "        col_type = df[col].dtype\n",
    "        \n",
    "        if col_type != object:\n",
    "            c_min = df[col].min()\n",
    "            c_max = df[col].max()\n",
    "            if str(col_type)[:3] == 'int':\n",
    "                if c_min > np.iinfo(np.int8).min and c_max < np.iinfo(np.int8).max:\n",
    "                    df[col] = df[col].astype(np.int8)\n",
    "                elif c_min > np.iinfo(np.int16).min and c_max < np.iinfo(np.int16).max:\n",
    "                    df[col] = df[col].astype(np.int16)\n",
    "                elif c_min > np.iinfo(np.int32).min and c_max < np.iinfo(np.int32).max:\n",
    "                    df[col] = df[col].astype(np.int32)\n",
    "                elif c_min > np.iinfo(np.int64).min and c_max < np.iinfo(np.int64).max:\n",
    "                    df[col] = df[col].astype(np.int64)  \n",
    "            else:\n",
    "                if c_min > np.finfo(np.float16).min and c_max < np.finfo(np.float16).max:\n",
    "                    df[col] = df[col].astype(np.float16)\n",
    "                elif c_min > np.finfo(np.float32).min and c_max < np.finfo(np.float32).max:\n",
    "                    df[col] = df[col].astype(np.float32)\n",
    "                else:\n",
    "                    df[col] = df[col].astype(np.float64)\n",
    "\n",
    "    end_mem = df.memory_usage().sum() / 1024**2\n",
    "    print('Memory usage after optimization is: {:.2f} MB'.format(end_mem))\n",
    "    print('Decreased by {:.1f}%'.format(100 * (start_mem - end_mem) / start_mem))\n",
    "    \n",
    "    return df"
   ]
  },
  {
   "cell_type": "code",
   "execution_count": 5,
   "metadata": {},
   "outputs": [],
   "source": [
    "class DataFrameImputer_Categorical(TransformerMixin):\n",
    "    \n",
    "    def __init__(self):\n",
    "        \"\"\"Impute missing values.\n",
    "\n",
    "        Columns of dtype object are imputed with the most frequent value \n",
    "        in column.\n",
    "\n",
    "        Columns of other types are imputed with mean of column.\n",
    "\n",
    "        \"\"\"\n",
    "    def fit(self, X, y=None):\n",
    "\n",
    "        self.fill = pd.Series([X[c].value_counts().index[0]\n",
    "            if X[c].dtype == np.dtype('O') else X[c].mean() for c in X],\n",
    "            index=X.columns)\n",
    "\n",
    "        return self\n",
    "\n",
    "    def transform(self, X, y=None):\n",
    "        return X.fillna(self.fill)"
   ]
  },
  {
   "cell_type": "code",
   "execution_count": 6,
   "metadata": {},
   "outputs": [],
   "source": [
    "def separe_numeric_categoric(df):\n",
    "    numerics = ['int16', 'int32', 'int64', 'float16', 'float32', 'float64']\n",
    "    df_n = df.select_dtypes(include=numerics)\n",
    "    df_c = df.select_dtypes(exclude=numerics)\n",
    "   \n",
    "\n",
    "    print(f'The DF have {len(list(df_n))} numerical features and {len(list(df_c))} categorical fets')\n",
    "    return df_n, df_c"
   ]
  },
  {
   "cell_type": "code",
   "execution_count": 7,
   "metadata": {},
   "outputs": [],
   "source": [
    "def readImputeNumerical(numerical_df):\n",
    "    del numerical_df\n",
    "    gc.collect()\n",
    "    return reduce_mem_usage(pd.read_csv('processed_input_data_Impute.csv'))\n",
    "\n"
   ]
  },
  {
   "cell_type": "code",
   "execution_count": 8,
   "metadata": {},
   "outputs": [],
   "source": [
    "def find_missing(df):\n",
    "    total = df.isnull().sum().sort_values(ascending=False)\n",
    "    percent = (df.isnull().sum()/df.isnull().count()).sort_values(ascending=False)\n",
    "    filter(lambda x: x>=.3, percent)\n",
    "    return percent\n"
   ]
  },
  {
   "cell_type": "code",
   "execution_count": 9,
   "metadata": {},
   "outputs": [],
   "source": [
    "\n",
    "def remove_missing_data(df,minimum=.7):\n",
    "    \n",
    "    percent = find_missing(df)\n",
    "    number = len(list(filter(lambda x: x>=(1.0-minimum), percent)))\n",
    "    names = list(percent.keys()[:number])\n",
    "\n",
    "    global noImputeDf \n",
    "    noImputeDf = df[names]\n",
    "\n",
    "    print(noImputeDf.columns)\n",
    "    df = df.drop(names, 1, errors='ignore')\n",
    "    print(f'{number} columns exclude because haven`t minimium data.')\n",
    "    return df\n"
   ]
  },
  {
   "cell_type": "code",
   "execution_count": 10,
   "metadata": {},
   "outputs": [],
   "source": [
    "def impute_NumericData(numerical_df):\n",
    "    columsNum = numerical_df.columns\n",
    "    #print(np.any(np.isnan(numerical_df.values)))\n",
    "    #print(np.all(np.isfinite(numerical_df.values)))\n",
    "\n",
    "    df_numerical_complete = fi.MICE(n_imputations=2, impute_type='col').complete(numerical_df)\n",
    "    #At the end by default it seems n_imputations is set to a mim of 12\n",
    "    \n",
    "    \n",
    "    print(df_numerical_complete.head())\n",
    "    \n",
    "    #n_missing = count_missing(df)\n",
    "    #print(f'{columns_missing-n_missing} numerical features imputated')\n",
    "\n",
    "    #Complete the columns name.\n",
    "    temp = pd.DataFrame(columns=columsNum, data=df_numerical_complete)\n",
    "    temp.to_csv(\"MiceCompletedFULL.csv\")\n",
    "    return temp"
   ]
  },
  {
   "cell_type": "code",
   "execution_count": 11,
   "metadata": {},
   "outputs": [],
   "source": [
    "def impute_CategoricalData( categorical_df):\n",
    "    return categorical_df.apply(lambda x:x.fillna(x.value_counts().index[0]))"
   ]
  },
  {
   "cell_type": "code",
   "execution_count": 12,
   "metadata": {},
   "outputs": [],
   "source": [
    "def impute_missing_data(df,minimium_data=.3):\n",
    "    numerical_df, categorical_df = prepareDataToImpute(df,minimium_data=.3)\n",
    "   \n",
    "    df_Numerical = impute_NumericData(numerical_df)\n",
    "    ##SINCE FILE IS BIG, READ FROM FILE\n",
    "    #df_Numerical = pd.read_csv('MiceCompleted.csv')\n",
    "    \n",
    "    df_Categorical = impute_CategoricalData(categorical_df)\n",
    "    #df = readImputeNumerical(numerical_df)\n",
    "        \n",
    "    df = pd.concat([df_Numerical,df_Categorical, noImputeDf], axis=1)\n",
    "    return df"
   ]
  },
  {
   "cell_type": "code",
   "execution_count": 13,
   "metadata": {},
   "outputs": [],
   "source": [
    "def prepareDataToImpute(df,minimium_data=.8):\n",
    "\n",
    "    # remove features without minimium size of information\n",
    "    df = remove_missing_data(df,minimium_data)\n",
    "    \n",
    "    numerical_df, categorical_df = separe_numeric_categoric(df)\n",
    "\n",
    "\n",
    "    numerical_df = numerical_df.replace([np.inf, -np.inf], np.nan)\n",
    "    del df\n",
    "    gc.collect()\n",
    "    return numerical_df, categorical_df"
   ]
  },
  {
   "cell_type": "code",
   "execution_count": 14,
   "metadata": {},
   "outputs": [
    {
     "name": "stdout",
     "output_type": "stream",
     "text": [
      "Memory usage of dataframe is 1193.21 MB\n",
      "Memory usage after optimization is: 484.15 MB\n",
      "Decreased by 59.4%\n"
     ]
    }
   ],
   "source": [
    "\n",
    "merged_df = reduce_mem_usage(pd.read_csv('processed_input_data.csv'))\n",
    "\n",
    "# Separate metadata\n",
    "meta_cols = ['SK_ID_CURR']\n"
   ]
  },
  {
   "cell_type": "code",
   "execution_count": 15,
   "metadata": {},
   "outputs": [],
   "source": [
    "meta_df = merged_df[meta_cols]"
   ]
  },
  {
   "cell_type": "code",
   "execution_count": 16,
   "metadata": {},
   "outputs": [],
   "source": [
    "meta_df.to_csv(\"meta_df.csv\")"
   ]
  },
  {
   "cell_type": "code",
   "execution_count": 17,
   "metadata": {},
   "outputs": [
    {
     "data": {
      "text/plain": [
       "(356255, 438)"
      ]
     },
     "execution_count": 17,
     "metadata": {},
     "output_type": "execute_result"
    }
   ],
   "source": [
    "\n",
    "merged_df.drop(columns=meta_cols, inplace=True)\n",
    "\n",
    "merged_df.shape"
   ]
  },
  {
   "cell_type": "code",
   "execution_count": 18,
   "metadata": {},
   "outputs": [
    {
     "data": {
      "text/plain": [
       "array([ 1.,  0., nan])"
      ]
     },
     "execution_count": 18,
     "metadata": {},
     "output_type": "execute_result"
    }
   ],
   "source": [
    "merged_df.TARGET.unique()"
   ]
  },
  {
   "cell_type": "code",
   "execution_count": 19,
   "metadata": {},
   "outputs": [
    {
     "name": "stdout",
     "output_type": "stream",
     "text": [
      "Label encoding categorical features...\n",
      "Label encoding complete.\n"
     ]
    },
    {
     "data": {
      "text/plain": [
       "(356255, 437)"
      ]
     },
     "execution_count": 19,
     "metadata": {},
     "output_type": "execute_result"
    }
   ],
   "source": [
    "# Process the data set.\n",
    "targetCol = ['TARGET']\n",
    "targetDF = merged_df[targetCol]\n",
    "merged_df.drop(columns=targetCol, inplace=True)\n",
    "\n",
    "merged_df, categorical_feats, encoder_dict = process_dataframe(input_df=merged_df)\n",
    "merged_df.shape\n"
   ]
  },
  {
   "cell_type": "code",
   "execution_count": 21,
   "metadata": {},
   "outputs": [],
   "source": [
    "#merged_df = DataFrameImputer().fit_transform(merged_df)"
   ]
  },
  {
   "cell_type": "code",
   "execution_count": 22,
   "metadata": {},
   "outputs": [
    {
     "name": "stdout",
     "output_type": "stream",
     "text": [
      "Index(['RATE_INTEREST_PRIVILEGED_PRVMAX', 'RATE_INTEREST_PRIMARY_PRVMAX',\n",
      "       'RATE_INTEREST_PRIMARY_PRVMIN', 'RATE_INTEREST_PRIVILEGED_PRVMIN',\n",
      "       'RATE_INTEREST_PRIVILEGED', 'RATE_INTEREST_PRIMARY',\n",
      "       'AMT_PAYMENT_CURRENT_CCMIN', 'AMT_PAYMENT_CURRENT_CCMEAN',\n",
      "       'AMT_PAYMENT_CURRENT', 'AMT_PAYMENT_CURRENT_CCMAX',\n",
      "       'AMT_DRAWINGS_OTHER_CURRENT_CCMEAN', 'CNT_DRAWINGS_OTHER_CURRENT_CCMAX',\n",
      "       'AMT_DRAWINGS_POS_CURRENT_CCMAX', 'CNT_DRAWINGS_ATM_CURRENT_CCMAX',\n",
      "       'AMT_DRAWINGS_POS_CURRENT_CCMIN', 'AMT_DRAWINGS_ATM_CURRENT_CCMIN',\n",
      "       'AMT_DRAWINGS_OTHER_CURRENT_CCMIN', 'AMT_DRAWINGS_ATM_CURRENT_CCMAX',\n",
      "       'CNT_DRAWINGS_ATM_CURRENT_CCMIN', 'AMT_DRAWINGS_OTHER_CURRENT_CCMAX',\n",
      "       'AMT_DRAWINGS_POS_CURRENT_CCMEAN', 'CNT_DRAWINGS_POS_CURRENT_CCMEAN',\n",
      "       'CNT_DRAWINGS_OTHER_CURRENT_CCMEAN', 'CNT_DRAWINGS_ATM_CURRENT_CCMEAN',\n",
      "       'CNT_DRAWINGS_POS_CURRENT_CCMIN', 'AMT_DRAWINGS_ATM_CURRENT_CCMEAN',\n",
      "       'CNT_DRAWINGS_POS_CURRENT', 'CNT_DRAWINGS_OTHER_CURRENT',\n",
      "       'CNT_DRAWINGS_ATM_CURRENT', 'AMT_DRAWINGS_POS_CURRENT',\n",
      "       'AMT_DRAWINGS_OTHER_CURRENT', 'AMT_DRAWINGS_ATM_CURRENT',\n",
      "       'CNT_DRAWINGS_OTHER_CURRENT_CCMIN', 'CNT_DRAWINGS_POS_CURRENT_CCMAX',\n",
      "       'MONTHS_BALANCE_B_B', 'DAYS_FIRST_DRAWING', 'DAYS_FIRST_DRAWING_PRVMIN',\n",
      "       'DAYS_FIRST_DRAWING_PRVMAX', 'CNT_INSTALMENT_MATURE_CUM_CCMAX',\n",
      "       'CNT_INSTALMENT_MATURE_CUM', 'AMT_INST_MIN_REGULARITY_CCMAX',\n",
      "       'AMT_INST_MIN_REGULARITY_CCMIN', 'AMT_INST_MIN_REGULARITY',\n",
      "       'AMT_INST_MIN_REGULARITY_CCMEAN', 'CNT_INSTALMENT_MATURE_CUM_CCMEAN',\n",
      "       'CNT_INSTALMENT_MATURE_CUM_CCMIN', 'BALANCE_TO_ANNUITY_RATIO',\n",
      "       'MONTHS_BALANCE_CCMAX', 'AMT_TOTAL_RECEIVABLE_CCMAX',\n",
      "       'AMT_BALANCE_CCMAX', 'AMT_CREDIT_LIMIT_ACTUAL_CCMAX',\n",
      "       'AMT_DRAWINGS_CURRENT_CCMAX', 'SK_DPD_DEF_CCMEAN',\n",
      "       'AMT_PAYMENT_TOTAL_CURRENT_CCMAX', 'AMT_RECEIVABLE_PRINCIPAL_CCMAX',\n",
      "       'SK_DPD_CCMEAN', 'AMT_RECIVABLE_CCMAX', 'SK_ID_PREV_CCMAX',\n",
      "       'CNT_DRAWINGS_CURRENT_CCMAX', 'SK_DPD_CCMAX',\n",
      "       'AMT_TOTAL_RECEIVABLE_CCMEAN', 'SK_DPD_DEF_CCMAX', 'SK_ID_PREV_CCMIN',\n",
      "       'MONTHS_BALANCE_CCMIN', 'AMT_BALANCE_CCMIN',\n",
      "       'AMT_CREDIT_LIMIT_ACTUAL_CCMIN', 'AMT_DRAWINGS_CURRENT_CCMIN',\n",
      "       'AMT_PAYMENT_TOTAL_CURRENT_CCMIN', 'AMT_RECEIVABLE_PRINCIPAL_CCMIN',\n",
      "       'AMT_RECIVABLE_CCMIN', 'AMT_TOTAL_RECEIVABLE_CCMIN',\n",
      "       'CNT_DRAWINGS_CURRENT_CCMIN', 'CNT_DRAWINGS_CURRENT_CCMEAN',\n",
      "       'AMT_PAYMENT_TOTAL_CURRENT_CCMEAN', 'AMT_RECIVABLE_CCMEAN',\n",
      "       'CNT_DRAWINGS_CURRENT', 'SK_ID_CURR_CNT_CRED_CARD',\n",
      "       'SK_ID_PREV_CC_WAVG', 'MONTHS_BALANCE', 'AMT_BALANCE',\n",
      "       'AMT_CREDIT_LIMIT_ACTUAL', 'AMT_DRAWINGS_CURRENT',\n",
      "       'AMT_PAYMENT_TOTAL_CURRENT', 'AMT_RECEIVABLE_PRINCIPAL',\n",
      "       'AMT_RECEIVABLE_PRINCIPAL_CCMEAN', 'AMT_RECIVABLE',\n",
      "       'AMT_TOTAL_RECEIVABLE', 'SK_DPD_CCMIN', 'SK_DPD',\n",
      "       'MONTHS_BALANCE_CCMEAN', 'SK_DPD_DEF_CCMIN',\n",
      "       'AMT_DRAWINGS_CURRENT_CCMEAN', 'SK_DPD_DEF', 'AMT_BALANCE_CCMEAN',\n",
      "       'AMT_CREDIT_LIMIT_ACTUAL_CCMEAN', 'SK_ID_PREV_CCMEAN'],\n",
      "      dtype='object')\n",
      "96 columns exclude because haven`t minimium data.\n",
      "The DF have 304 numerical features and 37 categorical fets\n",
      "[MICE] Completing matrix with shape (356255, 304)\n",
      "[MICE] Starting imputation round 1/12, elapsed time 1.783\n",
      "[MICE] Starting imputation round 2/12, elapsed time 445.278\n",
      "[MICE] Starting imputation round 3/12, elapsed time 886.366\n",
      "[MICE] Starting imputation round 4/12, elapsed time 1333.795\n",
      "[MICE] Starting imputation round 5/12, elapsed time 1776.521\n",
      "[MICE] Starting imputation round 6/12, elapsed time 2230.644\n",
      "[MICE] Starting imputation round 7/12, elapsed time 2689.576\n",
      "[MICE] Starting imputation round 8/12, elapsed time 3148.654\n",
      "[MICE] Starting imputation round 9/12, elapsed time 3609.573\n",
      "[MICE] Starting imputation round 10/12, elapsed time 4074.677\n",
      "[MICE] Starting imputation round 11/12, elapsed time 4539.559\n",
      "[MICE] Starting imputation round 12/12, elapsed time 4991.785\n"
     ]
    },
    {
     "data": {
      "text/plain": [
       "(356255, 437)"
      ]
     },
     "execution_count": 22,
     "metadata": {},
     "output_type": "execute_result"
    }
   ],
   "source": [
    "#Global Variables //Ugly thing to do. \n",
    "noImputeDf =  pd.DataFrame()\n",
    "\n",
    "#Do not include TARGET WHEN IMPUTING. \n",
    "merged_df= impute_missing_data(merged_df)\n",
    "merged_df.shape"
   ]
  },
  {
   "cell_type": "code",
   "execution_count": 59,
   "metadata": {},
   "outputs": [
    {
     "data": {
      "text/plain": [
       "(356255, 437)"
      ]
     },
     "execution_count": 59,
     "metadata": {},
     "output_type": "execute_result"
    }
   ],
   "source": [
    "merged_df.shape"
   ]
  },
  {
   "cell_type": "code",
   "execution_count": 23,
   "metadata": {},
   "outputs": [
    {
     "data": {
      "text/plain": [
       "<bound method NDFrame.head of         AMT_ANNUITY  AMT_CREDIT  AMT_GOODS_PRICE  AMT_INCOME_TOTAL  \\\n",
       "0           24700.5    406597.5         351000.0      202500.00000   \n",
       "1           35698.5   1293502.5        1129500.0      270000.00000   \n",
       "2            6750.0    135000.0         135000.0       67500.00000   \n",
       "3           29686.5    312682.5         297000.0      135000.00000   \n",
       "4           21865.5    513000.0         513000.0      121500.00000   \n",
       "5           27517.5    490495.5         454500.0       99000.00000   \n",
       "6           41301.0   1560726.0        1395000.0      171000.00000   \n",
       "7           42075.0   1530000.0        1530000.0      360000.00000   \n",
       "8           33826.5   1019610.0         913500.0      112500.00000   \n",
       "9           20250.0    405000.0         405000.0      135000.00000   \n",
       "10          21177.0    652500.0         652500.0      112500.00000   \n",
       "11          10678.5    148365.0         135000.0       38419.15625   \n",
       "12           5881.5     80865.0          67500.0       67500.00000   \n",
       "13          28966.5    918468.0         697500.0      225000.00000   \n",
       "14          32778.0    773680.5         679500.0      189000.00000   \n",
       "15          20160.0    299772.0         247500.0      157500.00000   \n",
       "16          26149.5    509602.5         387000.0      108000.00000   \n",
       "17          13500.0    270000.0         270000.0       81000.00000   \n",
       "18           7875.0    157500.0         157500.0      112500.00000   \n",
       "19          17563.5    544491.0         454500.0       90000.00000   \n",
       "20          21375.0    427500.0         427500.0      135000.00000   \n",
       "21          37561.5   1132573.5         927000.0      202500.00000   \n",
       "22          32521.5    497520.0         450000.0      450000.00000   \n",
       "23          23850.0    239850.0         225000.0       83250.00000   \n",
       "24          12703.5    247500.0         247500.0      135000.00000   \n",
       "25          11074.5    225000.0         225000.0       90000.00000   \n",
       "26          27076.5    979992.0         702000.0      112500.00000   \n",
       "27          23827.5    327024.0         270000.0      112500.00000   \n",
       "28          57676.5    790830.0         675000.0      270000.00000   \n",
       "29           9000.0    180000.0         180000.0       90000.00000   \n",
       "...             ...         ...              ...               ...   \n",
       "356225      43366.5    547272.0         495000.0      360000.00000   \n",
       "356226      57519.0    900000.0         900000.0      315000.00000   \n",
       "356227      16398.0    318645.0         216000.0      135000.00000   \n",
       "356228      13455.0    180000.0         180000.0       81000.00000   \n",
       "356229      19530.0    360000.0         360000.0      225000.00000   \n",
       "356230      35374.5    690313.5         549000.0      112500.00000   \n",
       "356231      23134.5    323460.0         270000.0      171000.00000   \n",
       "356232      37129.5    468333.0         382500.0      130500.00000   \n",
       "356233      13284.0    166500.0         166500.0      220500.00000   \n",
       "356234      16213.5    315000.0         315000.0       67500.00000   \n",
       "356235      17707.5    514710.0         387000.0      112500.00000   \n",
       "356236      24543.0    450000.0         450000.0       45000.00000   \n",
       "356237      37917.0   1002339.0         846000.0      225000.00000   \n",
       "356238      15291.0    149256.0         135000.0      180000.00000   \n",
       "356239      38398.5    685386.0         585000.0      247500.00000   \n",
       "356240      16020.0    135000.0         135000.0       81000.00000   \n",
       "356241      40824.0    445095.0         405000.0      157500.00000   \n",
       "356242      28890.0    450000.0         450000.0      112500.00000   \n",
       "356243      54382.5    479700.0         450000.0      189000.00000   \n",
       "356244      37764.0   1047771.0         904500.0      135000.00000   \n",
       "356245      46660.5    835686.0         765000.0      135000.00000   \n",
       "356246       7411.5    109008.0          90000.0       85500.00000   \n",
       "356247      48888.0    500490.0         450000.0      157500.00000   \n",
       "356248      28570.5    360000.0         360000.0      270000.00000   \n",
       "356249      23112.0    252022.5         217561.5      135000.00000   \n",
       "356250      17473.5    412560.0         270000.0      121500.00000   \n",
       "356251      31909.5    622413.0         495000.0      157500.00000   \n",
       "356252      33205.5    315000.0         315000.0      202500.00000   \n",
       "356253      25128.0    450000.0         450000.0      225000.00000   \n",
       "356254      24709.5    312768.0         270000.0      135000.00000   \n",
       "\n",
       "        AMT_REQ_CREDIT_BUREAU_DAY  AMT_REQ_CREDIT_BUREAU_HOUR  \\\n",
       "0                        0.000000                    0.000000   \n",
       "1                        0.000000                    0.000000   \n",
       "2                        0.000000                    0.000000   \n",
       "3                        0.032018                   -0.041214   \n",
       "4                        0.000000                    0.000000   \n",
       "5                        0.000000                    0.000000   \n",
       "6                        0.000000                    0.000000   \n",
       "7                        0.000000                    0.000000   \n",
       "8                        0.000000                    0.000000   \n",
       "9                       -0.073406                    0.048680   \n",
       "10                       0.000000                    0.000000   \n",
       "11                       0.000000                    0.000000   \n",
       "12                       0.000000                    0.000000   \n",
       "13                       0.000000                    0.000000   \n",
       "14                       0.123335                   -0.004863   \n",
       "15                       0.000000                    0.000000   \n",
       "16                       0.000000                    0.000000   \n",
       "17                      -0.057085                    0.026569   \n",
       "18                       0.000000                    0.000000   \n",
       "19                       0.000000                    0.000000   \n",
       "20                      -0.064893                   -0.007370   \n",
       "21                       0.000000                    0.000000   \n",
       "22                       0.000000                    0.000000   \n",
       "23                       0.000000                    0.000000   \n",
       "24                       0.000000                    0.000000   \n",
       "25                       0.000000                    0.000000   \n",
       "26                       0.000000                    0.000000   \n",
       "27                       0.000000                    0.000000   \n",
       "28                       0.000000                    0.000000   \n",
       "29                       0.026559                    0.021583   \n",
       "...                           ...                         ...   \n",
       "356225                   0.000000                    0.000000   \n",
       "356226                   0.000000                    0.000000   \n",
       "356227                   0.074108                    0.092838   \n",
       "356228                   0.000000                    0.000000   \n",
       "356229                   0.000000                    0.000000   \n",
       "356230                   0.000000                    0.000000   \n",
       "356231                   0.000000                    0.000000   \n",
       "356232                   0.000000                    0.000000   \n",
       "356233                   0.000000                    0.000000   \n",
       "356234                   0.000000                    0.000000   \n",
       "356235                   0.000000                    0.000000   \n",
       "356236                   0.000000                    0.000000   \n",
       "356237                   0.000000                    0.000000   \n",
       "356238                   0.000000                    0.000000   \n",
       "356239                   0.000000                    0.000000   \n",
       "356240                  -0.069335                   -0.030892   \n",
       "356241                   0.000000                    0.000000   \n",
       "356242                   0.000000                    0.000000   \n",
       "356243                   0.000000                    0.000000   \n",
       "356244                   0.000000                    0.000000   \n",
       "356245                   0.000000                    0.000000   \n",
       "356246                  -0.138024                    0.023151   \n",
       "356247                   0.000000                    0.000000   \n",
       "356248                   0.000000                    0.000000   \n",
       "356249                   0.000000                    0.000000   \n",
       "356250                   0.000000                    0.000000   \n",
       "356251                   0.044828                   -0.020456   \n",
       "356252                   0.000000                    0.000000   \n",
       "356253                   0.000000                    0.000000   \n",
       "356254                   0.000000                    0.000000   \n",
       "\n",
       "        AMT_REQ_CREDIT_BUREAU_MON  AMT_REQ_CREDIT_BUREAU_QRT  \\\n",
       "0                        0.000000                   0.000000   \n",
       "1                        0.000000                   0.000000   \n",
       "2                        0.000000                   0.000000   \n",
       "3                       -0.784092                   0.067550   \n",
       "4                        0.000000                   0.000000   \n",
       "5                        0.000000                   1.000000   \n",
       "6                        1.000000                   1.000000   \n",
       "7                        0.000000                   0.000000   \n",
       "8                        0.000000                   0.000000   \n",
       "9                        0.336550                   0.860300   \n",
       "10                       1.000000                   0.000000   \n",
       "11                       0.000000                   0.000000   \n",
       "12                       1.000000                   0.000000   \n",
       "13                       0.000000                   0.000000   \n",
       "14                       0.021956                   0.439249   \n",
       "15                       0.000000                   0.000000   \n",
       "16                       0.000000                   1.000000   \n",
       "17                      -0.142651                   0.882992   \n",
       "18                       0.000000                   0.000000   \n",
       "19                       0.000000                   0.000000   \n",
       "20                       0.545373                   0.521282   \n",
       "21                       0.000000                   1.000000   \n",
       "22                       0.000000                   0.000000   \n",
       "23                       0.000000                   0.000000   \n",
       "24                       0.000000                   0.000000   \n",
       "25                       0.000000                   0.000000   \n",
       "26                       0.000000                   2.000000   \n",
       "27                       0.000000                   0.000000   \n",
       "28                       1.000000                   0.000000   \n",
       "29                       0.167022                   0.253108   \n",
       "...                           ...                        ...   \n",
       "356225                   0.000000                   2.000000   \n",
       "356226                   0.000000                   0.000000   \n",
       "356227                   0.287119                   0.908398   \n",
       "356228                   0.000000                   2.000000   \n",
       "356229                   0.000000                   0.000000   \n",
       "356230                   0.000000                   0.000000   \n",
       "356231                   0.000000                   0.000000   \n",
       "356232                   0.000000                   1.000000   \n",
       "356233                   0.000000                   1.000000   \n",
       "356234                   0.000000                   1.000000   \n",
       "356235                   0.000000                   0.000000   \n",
       "356236                   0.000000                   1.000000   \n",
       "356237                   0.000000                   0.000000   \n",
       "356238                   0.000000                   0.000000   \n",
       "356239                   0.000000                   1.000000   \n",
       "356240                  -0.327681                  -0.535506   \n",
       "356241                   0.000000                   2.000000   \n",
       "356242                   0.000000                   1.000000   \n",
       "356243                   0.000000                   1.000000   \n",
       "356244                   0.000000                   0.000000   \n",
       "356245                   0.000000                   0.000000   \n",
       "356246                   0.655602                   1.187864   \n",
       "356247                   0.000000                   0.000000   \n",
       "356248                   0.000000                   0.000000   \n",
       "356249                   0.000000                   2.000000   \n",
       "356250                   0.000000                   0.000000   \n",
       "356251                   1.916058                   1.044737   \n",
       "356252                   0.000000                   3.000000   \n",
       "356253                   0.000000                   0.000000   \n",
       "356254                   0.000000                   1.000000   \n",
       "\n",
       "        AMT_REQ_CREDIT_BUREAU_WEEK  AMT_REQ_CREDIT_BUREAU_YEAR  \\\n",
       "0                         0.000000                    1.000000   \n",
       "1                         0.000000                    0.000000   \n",
       "2                         0.000000                    0.000000   \n",
       "3                        -0.191896                    2.011256   \n",
       "4                         0.000000                    0.000000   \n",
       "5                         0.000000                    1.000000   \n",
       "6                         0.000000                    2.000000   \n",
       "7                         0.000000                    0.000000   \n",
       "8                         0.000000                    1.000000   \n",
       "9                        -0.016634                    1.588355   \n",
       "10                        0.000000                    0.000000   \n",
       "11                        0.000000                    2.000000   \n",
       "12                        0.000000                    0.000000   \n",
       "13                        0.000000                    1.000000   \n",
       "14                        0.101879                    1.044766   \n",
       "15                        0.000000                    1.000000   \n",
       "16                        0.000000                    0.000000   \n",
       "17                        0.191186                    0.601576   \n",
       "18                        0.000000                    0.000000   \n",
       "19                        0.000000                    2.000000   \n",
       "20                        0.169017                    0.196432   \n",
       "21                        0.000000                    4.000000   \n",
       "22                        0.000000                    5.000000   \n",
       "23                        0.000000                    3.000000   \n",
       "24                        0.000000                    0.000000   \n",
       "25                        0.000000                    0.000000   \n",
       "26                        0.000000                    2.000000   \n",
       "27                        0.000000                    0.000000   \n",
       "28                        0.000000                    1.000000   \n",
       "29                       -0.117605                    1.702400   \n",
       "...                            ...                         ...   \n",
       "356225                    0.000000                    1.000000   \n",
       "356226                    0.000000                    2.000000   \n",
       "356227                   -0.182878                    3.305923   \n",
       "356228                    0.000000                    3.000000   \n",
       "356229                    0.000000                    0.000000   \n",
       "356230                    0.000000                    0.000000   \n",
       "356231                    0.000000                    0.000000   \n",
       "356232                    0.000000                    0.000000   \n",
       "356233                    0.000000                    3.000000   \n",
       "356234                    0.000000                    0.000000   \n",
       "356235                    0.000000                    0.000000   \n",
       "356236                    0.000000                    2.000000   \n",
       "356237                    0.000000                    3.000000   \n",
       "356238                    0.000000                    0.000000   \n",
       "356239                    0.000000                    3.000000   \n",
       "356240                   -0.017444                    1.917753   \n",
       "356241                    0.000000                    0.000000   \n",
       "356242                    0.000000                    2.000000   \n",
       "356243                    0.000000                    3.000000   \n",
       "356244                    0.000000                    0.000000   \n",
       "356245                    0.000000                    3.000000   \n",
       "356246                    0.299862                    1.812192   \n",
       "356247                    0.000000                    2.000000   \n",
       "356248                    0.000000                    3.000000   \n",
       "356249                    0.000000                    2.000000   \n",
       "356250                    0.000000                    1.000000   \n",
       "356251                    0.235467                    1.293156   \n",
       "356252                    0.000000                    1.000000   \n",
       "356253                    0.000000                    2.000000   \n",
       "356254                    0.000000                    4.000000   \n",
       "\n",
       "              ...          AMT_TOTAL_RECEIVABLE  SK_DPD_CCMIN    SK_DPD  \\\n",
       "0             ...                           NaN           NaN       NaN   \n",
       "1             ...                           NaN           NaN       NaN   \n",
       "2             ...                           NaN           NaN       NaN   \n",
       "3             ...                      0.000000      0.000000  0.000000   \n",
       "4             ...                           NaN           NaN       NaN   \n",
       "5             ...                           NaN           NaN       NaN   \n",
       "6             ...                           NaN           NaN       NaN   \n",
       "7             ...                           NaN           NaN       NaN   \n",
       "8             ...                  16887.871094      0.000000  0.000000   \n",
       "9             ...                           NaN           NaN       NaN   \n",
       "10            ...                           NaN           NaN       NaN   \n",
       "11            ...                           NaN           NaN       NaN   \n",
       "12            ...                           NaN           NaN       NaN   \n",
       "13            ...                           NaN           NaN       NaN   \n",
       "14            ...                           NaN           NaN       NaN   \n",
       "15            ...                           NaN           NaN       NaN   \n",
       "16            ...                           NaN           NaN       NaN   \n",
       "17            ...                      0.000000      0.000000  0.000000   \n",
       "18            ...                           NaN           NaN       NaN   \n",
       "19            ...                      0.000000      0.000000  0.000000   \n",
       "20            ...                           NaN           NaN       NaN   \n",
       "21            ...                           NaN           NaN       NaN   \n",
       "22            ...                           NaN           NaN       NaN   \n",
       "23            ...                           NaN           NaN       NaN   \n",
       "24            ...                           NaN           NaN       NaN   \n",
       "25            ...                           NaN           NaN       NaN   \n",
       "26            ...                           NaN           NaN       NaN   \n",
       "27            ...                           NaN           NaN       NaN   \n",
       "28            ...                           NaN           NaN       NaN   \n",
       "29            ...                           NaN           NaN       NaN   \n",
       "...           ...                           ...           ...       ...   \n",
       "356225        ...                           NaN           NaN       NaN   \n",
       "356226        ...                           NaN           NaN       NaN   \n",
       "356227        ...                           NaN           NaN       NaN   \n",
       "356228        ...                           NaN           NaN       NaN   \n",
       "356229        ...                           NaN           NaN       NaN   \n",
       "356230        ...                      0.000000      0.000000  0.000000   \n",
       "356231        ...                           NaN           NaN       NaN   \n",
       "356232        ...                           NaN           NaN       NaN   \n",
       "356233        ...                           NaN           NaN       NaN   \n",
       "356234        ...                           NaN           NaN       NaN   \n",
       "356235        ...                           NaN           NaN       NaN   \n",
       "356236        ...                  16186.535156      0.000000  0.000000   \n",
       "356237        ...                      0.000000      0.000000  0.000000   \n",
       "356238        ...                           NaN           NaN       NaN   \n",
       "356239        ...                  15757.765625      0.066284  0.066284   \n",
       "356240        ...                           NaN           NaN       NaN   \n",
       "356241        ...                           NaN           NaN       NaN   \n",
       "356242        ...                           NaN           NaN       NaN   \n",
       "356243        ...                           NaN           NaN       NaN   \n",
       "356244        ...                           NaN           NaN       NaN   \n",
       "356245        ...                      0.000000      0.000000  0.000000   \n",
       "356246        ...                           NaN           NaN       NaN   \n",
       "356247        ...                           NaN           NaN       NaN   \n",
       "356248        ...                 135944.140625      0.000000  0.000000   \n",
       "356249        ...                           NaN           NaN       NaN   \n",
       "356250        ...                           NaN           NaN       NaN   \n",
       "356251        ...                           NaN           NaN       NaN   \n",
       "356252        ...                           NaN           NaN       NaN   \n",
       "356253        ...                           NaN           NaN       NaN   \n",
       "356254        ...                 164003.437500      0.000000  0.000000   \n",
       "\n",
       "        MONTHS_BALANCE_CCMEAN  SK_DPD_DEF_CCMIN  AMT_DRAWINGS_CURRENT_CCMEAN  \\\n",
       "0                         NaN               NaN                          NaN   \n",
       "1                         NaN               NaN                          NaN   \n",
       "2                         NaN               NaN                          NaN   \n",
       "3                   -2.449219          0.000000                     0.000000   \n",
       "4                         NaN               NaN                          NaN   \n",
       "5                         NaN               NaN                          NaN   \n",
       "6                         NaN               NaN                          NaN   \n",
       "7                         NaN               NaN                          NaN   \n",
       "8                  -18.968750          0.000000                   615.170776   \n",
       "9                         NaN               NaN                          NaN   \n",
       "10                        NaN               NaN                          NaN   \n",
       "11                        NaN               NaN                          NaN   \n",
       "12                        NaN               NaN                          NaN   \n",
       "13                        NaN               NaN                          NaN   \n",
       "14                        NaN               NaN                          NaN   \n",
       "15                        NaN               NaN                          NaN   \n",
       "16                        NaN               NaN                          NaN   \n",
       "17                  -6.812500          0.000000                     0.000000   \n",
       "18                        NaN               NaN                          NaN   \n",
       "19                  -6.742188          0.000000                     0.000000   \n",
       "20                        NaN               NaN                          NaN   \n",
       "21                        NaN               NaN                          NaN   \n",
       "22                        NaN               NaN                          NaN   \n",
       "23                        NaN               NaN                          NaN   \n",
       "24                        NaN               NaN                          NaN   \n",
       "25                        NaN               NaN                          NaN   \n",
       "26                        NaN               NaN                          NaN   \n",
       "27                        NaN               NaN                          NaN   \n",
       "28                        NaN               NaN                          NaN   \n",
       "29                        NaN               NaN                          NaN   \n",
       "...                       ...               ...                          ...   \n",
       "356225                    NaN               NaN                          NaN   \n",
       "356226                    NaN               NaN                          NaN   \n",
       "356227                    NaN               NaN                          NaN   \n",
       "356228                    NaN               NaN                          NaN   \n",
       "356229                    NaN               NaN                          NaN   \n",
       "356230              -4.519531          0.000000                     0.000000   \n",
       "356231                    NaN               NaN                          NaN   \n",
       "356232                    NaN               NaN                          NaN   \n",
       "356233                    NaN               NaN                          NaN   \n",
       "356234                    NaN               NaN                          NaN   \n",
       "356235                    NaN               NaN                          NaN   \n",
       "356236             -15.953125          0.000000                   710.702820   \n",
       "356237              -6.355469          0.000000                     0.000000   \n",
       "356238                    NaN               NaN                          NaN   \n",
       "356239             -18.343750          0.066284                   553.170288   \n",
       "356240                    NaN               NaN                          NaN   \n",
       "356241                    NaN               NaN                          NaN   \n",
       "356242                    NaN               NaN                          NaN   \n",
       "356243                    NaN               NaN                          NaN   \n",
       "356244                    NaN               NaN                          NaN   \n",
       "356245              -6.039062          0.000000                     0.000000   \n",
       "356246                    NaN               NaN                          NaN   \n",
       "356247                    NaN               NaN                          NaN   \n",
       "356248              -6.160156          0.000000                  4475.049316   \n",
       "356249                    NaN               NaN                          NaN   \n",
       "356250                    NaN               NaN                          NaN   \n",
       "356251                    NaN               NaN                          NaN   \n",
       "356252                    NaN               NaN                          NaN   \n",
       "356253                    NaN               NaN                          NaN   \n",
       "356254              -3.867188          0.000000                  4855.674805   \n",
       "\n",
       "        SK_DPD_DEF  AMT_BALANCE_CCMEAN  AMT_CREDIT_LIMIT_ACTUAL_CCMEAN  \\\n",
       "0              NaN                 NaN                             NaN   \n",
       "1              NaN                 NaN                             NaN   \n",
       "2              NaN                 NaN                             NaN   \n",
       "3         0.000000            0.000000                   270000.000000   \n",
       "4              NaN                 NaN                             NaN   \n",
       "5              NaN                 NaN                             NaN   \n",
       "6              NaN                 NaN                             NaN   \n",
       "7              NaN                 NaN                             NaN   \n",
       "8         0.000000        16910.294922                   128058.921875   \n",
       "9              NaN                 NaN                             NaN   \n",
       "10             NaN                 NaN                             NaN   \n",
       "11             NaN                 NaN                             NaN   \n",
       "12             NaN                 NaN                             NaN   \n",
       "13             NaN                 NaN                             NaN   \n",
       "14             NaN                 NaN                             NaN   \n",
       "15             NaN                 NaN                             NaN   \n",
       "16             NaN                 NaN                             NaN   \n",
       "17        0.000000            0.000000                   675000.000000   \n",
       "18             NaN                 NaN                             NaN   \n",
       "19        0.000000            0.000000                   160220.578125   \n",
       "20             NaN                 NaN                             NaN   \n",
       "21             NaN                 NaN                             NaN   \n",
       "22             NaN                 NaN                             NaN   \n",
       "23             NaN                 NaN                             NaN   \n",
       "24             NaN                 NaN                             NaN   \n",
       "25             NaN                 NaN                             NaN   \n",
       "26             NaN                 NaN                             NaN   \n",
       "27             NaN                 NaN                             NaN   \n",
       "28             NaN                 NaN                             NaN   \n",
       "29             NaN                 NaN                             NaN   \n",
       "...            ...                 ...                             ...   \n",
       "356225         NaN                 NaN                             NaN   \n",
       "356226         NaN                 NaN                             NaN   \n",
       "356227         NaN                 NaN                             NaN   \n",
       "356228         NaN                 NaN                             NaN   \n",
       "356229         NaN                 NaN                             NaN   \n",
       "356230    0.000000            0.000000                     1872.771851   \n",
       "356231         NaN                 NaN                             NaN   \n",
       "356232         NaN                 NaN                             NaN   \n",
       "356233         NaN                 NaN                             NaN   \n",
       "356234         NaN                 NaN                             NaN   \n",
       "356235         NaN                 NaN                             NaN   \n",
       "356236    0.000000        16192.734375                    44815.210938   \n",
       "356237    0.000000            0.000000                    45000.000000   \n",
       "356238         NaN                 NaN                             NaN   \n",
       "356239    0.066284        15758.470703                    60637.328125   \n",
       "356240         NaN                 NaN                             NaN   \n",
       "356241         NaN                 NaN                             NaN   \n",
       "356242         NaN                 NaN                             NaN   \n",
       "356243         NaN                 NaN                             NaN   \n",
       "356244         NaN                 NaN                             NaN   \n",
       "356245    0.000000            0.000000                   180000.000000   \n",
       "356246         NaN                 NaN                             NaN   \n",
       "356247         NaN                 NaN                             NaN   \n",
       "356248    0.000000       136954.437500                   316334.593750   \n",
       "356249         NaN                 NaN                             NaN   \n",
       "356250         NaN                 NaN                             NaN   \n",
       "356251         NaN                 NaN                             NaN   \n",
       "356252         NaN                 NaN                             NaN   \n",
       "356253         NaN                 NaN                             NaN   \n",
       "356254    0.000000       164461.000000                   177341.468750   \n",
       "\n",
       "        SK_ID_PREV_CCMEAN  \n",
       "0                     NaN  \n",
       "1                     NaN  \n",
       "2                     NaN  \n",
       "3               1489396.0  \n",
       "4                     NaN  \n",
       "5                     NaN  \n",
       "6                     NaN  \n",
       "7                     NaN  \n",
       "8               1843384.0  \n",
       "9                     NaN  \n",
       "10                    NaN  \n",
       "11                    NaN  \n",
       "12                    NaN  \n",
       "13                    NaN  \n",
       "14                    NaN  \n",
       "15                    NaN  \n",
       "16                    NaN  \n",
       "17              2594025.0  \n",
       "18                    NaN  \n",
       "19              1499902.0  \n",
       "20                    NaN  \n",
       "21                    NaN  \n",
       "22                    NaN  \n",
       "23                    NaN  \n",
       "24                    NaN  \n",
       "25                    NaN  \n",
       "26                    NaN  \n",
       "27                    NaN  \n",
       "28                    NaN  \n",
       "29                    NaN  \n",
       "...                   ...  \n",
       "356225                NaN  \n",
       "356226                NaN  \n",
       "356227                NaN  \n",
       "356228                NaN  \n",
       "356229                NaN  \n",
       "356230          2539206.0  \n",
       "356231                NaN  \n",
       "356232                NaN  \n",
       "356233                NaN  \n",
       "356234                NaN  \n",
       "356235                NaN  \n",
       "356236          1257709.0  \n",
       "356237          1716212.0  \n",
       "356238                NaN  \n",
       "356239          1922609.0  \n",
       "356240                NaN  \n",
       "356241                NaN  \n",
       "356242                NaN  \n",
       "356243                NaN  \n",
       "356244                NaN  \n",
       "356245          2220268.0  \n",
       "356246                NaN  \n",
       "356247                NaN  \n",
       "356248          1130837.0  \n",
       "356249                NaN  \n",
       "356250                NaN  \n",
       "356251                NaN  \n",
       "356252                NaN  \n",
       "356253                NaN  \n",
       "356254          1794451.0  \n",
       "\n",
       "[356255 rows x 437 columns]>"
      ]
     },
     "execution_count": 23,
     "metadata": {},
     "output_type": "execute_result"
    }
   ],
   "source": [
    "merged_df.head"
   ]
  },
  {
   "cell_type": "code",
   "execution_count": 24,
   "metadata": {},
   "outputs": [],
   "source": [
    "\n",
    "merged_df = pd.concat([merged_df,targetDF],axis=1)\n",
    "merged_df.TARGET.unique()\n",
    "merged_df.to_csv('ImputedData.csv', index=False)"
   ]
  },
  {
   "cell_type": "code",
   "execution_count": 25,
   "metadata": {},
   "outputs": [],
   "source": [
    "#merged_df = pd.read_csv('ImputedData.csv')"
   ]
  },
  {
   "cell_type": "raw",
   "metadata": {},
   "source": [
    "CELL IS NOT SET TO CODE\n",
    "# Capture other categorical features not as object data types:\n",
    "\"\"\"non_obj_categoricals = [\n",
    "    'FONDKAPREMONT_MODE', 'HOUR_APPR_PROCESS_START', 'HOUSETYPE_MODE',\n",
    "    'NAME_EDUCATION_TYPE', 'NAME_FAMILY_STATUS', 'NAME_HOUSING_TYPE',\n",
    "    'NAME_INCOME_TYPE', 'NAME_TYPE_SUITE', 'OCCUPATION_TYPE',\n",
    "    'ORGANIZATION_TYPE', 'STATUS', 'NAME_CONTRACT_STATUS_CAVG',\n",
    "    'WALLSMATERIAL_MODE', 'WEEKDAY_APPR_PROCESS_START', 'NAME_CONTRACT_TYPE_BAVG',\n",
    "    'WEEKDAY_APPR_PROCESS_START_BAVG', 'NAME_CASH_LOAN_PURPOSE', 'NAME_CONTRACT_STATUS', \n",
    "    'NAME_PAYMENT_TYPE', 'CODE_REJECT_REASON', 'NAME_TYPE_SUITE_BAVG', \n",
    "    'NAME_CLIENT_TYPE', 'NAME_GOODS_CATEGORY', 'NAME_PORTFOLIO', \n",
    "    'NAME_PRODUCT_TYPE', 'CHANNEL_TYPE', 'NAME_SELLER_INDUSTRY', \n",
    "    'NAME_YIELD_GROUP', 'PRODUCT_COMBINATION', 'NAME_CONTRACT_STATUS_CCAVG',\n",
    "    'CREDIT_ACTIVE', 'CREDIT_CURRENCY', 'CREDIT_TYPE'\n",
    "]\n",
    "\n",
    "categorical_feats = categorical_feats + non_obj_categoricals\n",
    "merged_df.shape\n",
    "\"\"\""
   ]
  },
  {
   "cell_type": "code",
   "execution_count": 26,
   "metadata": {},
   "outputs": [],
   "source": [
    "# Re-separate into train and test\n",
    "# 307511 -> represent the len_train (hard coded)\n",
    "\n",
    "merged_df = merged_df.replace([np.inf, -np.inf], np.nan)\n",
    "\n",
    "\n",
    "train_df = merged_df[:307511]\n",
    "test_df = merged_df[307511:]"
   ]
  },
  {
   "cell_type": "code",
   "execution_count": 27,
   "metadata": {},
   "outputs": [],
   "source": [
    "#map_dict = { 1.: \"yes\",0. :\"no\" }\n",
    "#train_df[\"TARGET\"] = train_df[\"TARGET\"].map(map_dict)"
   ]
  },
  {
   "cell_type": "code",
   "execution_count": 28,
   "metadata": {},
   "outputs": [
    {
     "data": {
      "text/plain": [
       "array([ 1.,  0., nan])"
      ]
     },
     "execution_count": 28,
     "metadata": {},
     "output_type": "execute_result"
    }
   ],
   "source": [
    "merged_df.TARGET.unique()"
   ]
  },
  {
   "cell_type": "code",
   "execution_count": 29,
   "metadata": {},
   "outputs": [
    {
     "data": {
      "text/plain": [
       "array([1., 0.])"
      ]
     },
     "execution_count": 29,
     "metadata": {},
     "output_type": "execute_result"
    }
   ],
   "source": [
    "train_df.TARGET.unique()"
   ]
  },
  {
   "cell_type": "code",
   "execution_count": 30,
   "metadata": {},
   "outputs": [
    {
     "data": {
      "text/plain": [
       "array([nan])"
      ]
     },
     "execution_count": 30,
     "metadata": {},
     "output_type": "execute_result"
    }
   ],
   "source": [
    "test_df.TARGET.unique()"
   ]
  },
  {
   "cell_type": "code",
   "execution_count": 31,
   "metadata": {},
   "outputs": [
    {
     "data": {
      "text/plain": [
       "7"
      ]
     },
     "execution_count": 31,
     "metadata": {},
     "output_type": "execute_result"
    }
   ],
   "source": [
    "train_df.to_csv(\"trainDF.csv\")\n",
    "test_df.to_csv(\"ToPredictDF.csv\")\n",
    "\n",
    "del train_df\n",
    "del test_df\n",
    "gc.collect()"
   ]
  },
  {
   "cell_type": "code",
   "execution_count": 32,
   "metadata": {},
   "outputs": [
    {
     "name": "stderr",
     "output_type": "stream",
     "text": [
      "C:\\Users\\TheShogun\\Anaconda3\\lib\\site-packages\\sklearn\\cross_validation.py:41: DeprecationWarning: This module was deprecated in version 0.18 in favor of the model_selection module into which all the refactored classes and functions are moved. Also note that the interface of the new CV iterators are different from that of this module. This module will be removed in 0.20.\n",
      "  \"This module will be removed in 0.20.\", DeprecationWarning)\n"
     ]
    }
   ],
   "source": [
    "train_df = pd.read_csv('trainDF.csv')\n",
    "\n",
    "\n",
    "from sklearn.cross_validation import StratifiedShuffleSplit\n",
    "sss = StratifiedShuffleSplit(train_df['TARGET'], n_iter=3, test_size=0.2)\n",
    "for train_index, test_index in sss:\n",
    "    xtrain, xtest = train_df.iloc[train_index], train_df.iloc[test_index]\n",
    "    \n",
    "xtrain.to_csv(\"trainDF.csv\")\n",
    "\n",
    "xtest.to_csv(\"testDF.csv\")\n"
   ]
  },
  {
   "cell_type": "code",
   "execution_count": 2,
   "metadata": {},
   "outputs": [
    {
     "name": "stdout",
     "output_type": "stream",
     "text": [
      "Parse progress: |█████████████████████████████████████████████████████████| 100%\n",
      "Parse progress: |█████████████████████████████████████████████████████████| 100%\n",
      "Parse progress: |█████████████████████████████████████████████████████████| 100%\n"
     ]
    }
   ],
   "source": [
    "train_hf = h2o.import_file('trainDF.csv')\n",
    "\n",
    "test_hf = h2o.import_file('testDF.csv')\n",
    "\n",
    "predict_hf = h2o.import_file('ToPredictDF.csv')\n",
    "\n",
    "\n"
   ]
  },
  {
   "cell_type": "code",
   "execution_count": 10,
   "metadata": {},
   "outputs": [
    {
     "data": {
      "text/plain": [
       "['C1',\n",
       " 'AMT_ANNUITY',\n",
       " 'AMT_CREDIT',\n",
       " 'AMT_GOODS_PRICE',\n",
       " 'AMT_INCOME_TOTAL',\n",
       " 'AMT_REQ_CREDIT_BUREAU_DAY',\n",
       " 'AMT_REQ_CREDIT_BUREAU_HOUR',\n",
       " 'AMT_REQ_CREDIT_BUREAU_MON',\n",
       " 'AMT_REQ_CREDIT_BUREAU_QRT',\n",
       " 'AMT_REQ_CREDIT_BUREAU_WEEK',\n",
       " 'AMT_REQ_CREDIT_BUREAU_YEAR',\n",
       " 'APARTMENTS_AVG',\n",
       " 'APARTMENTS_MEDI',\n",
       " 'APARTMENTS_MODE',\n",
       " 'BASEMENTAREA_AVG',\n",
       " 'BASEMENTAREA_MEDI',\n",
       " 'BASEMENTAREA_MODE',\n",
       " 'CNT_FAM_MEMBERS',\n",
       " 'CODE_GENDER',\n",
       " 'COMMONAREA_AVG',\n",
       " 'COMMONAREA_MEDI',\n",
       " 'COMMONAREA_MODE',\n",
       " 'DAYS_BIRTH',\n",
       " 'DAYS_EMPLOYED',\n",
       " 'DAYS_ID_PUBLISH',\n",
       " 'DAYS_LAST_PHONE_CHANGE',\n",
       " 'DAYS_REGISTRATION',\n",
       " 'DEF_30_CNT_SOCIAL_CIRCLE',\n",
       " 'DEF_60_CNT_SOCIAL_CIRCLE',\n",
       " 'ELEVATORS_AVG',\n",
       " 'ELEVATORS_MEDI',\n",
       " 'ELEVATORS_MODE',\n",
       " 'EMERGENCYSTATE_MODE',\n",
       " 'ENTRANCES_AVG',\n",
       " 'ENTRANCES_MEDI',\n",
       " 'ENTRANCES_MODE',\n",
       " 'EXT_SOURCE_1',\n",
       " 'EXT_SOURCE_2',\n",
       " 'EXT_SOURCE_3',\n",
       " 'FLAG_OWN_CAR',\n",
       " 'FLAG_OWN_REALTY',\n",
       " 'FLOORSMAX_AVG',\n",
       " 'FLOORSMAX_MEDI',\n",
       " 'FLOORSMAX_MODE',\n",
       " 'FLOORSMIN_AVG',\n",
       " 'FLOORSMIN_MEDI',\n",
       " 'FLOORSMIN_MODE',\n",
       " 'FONDKAPREMONT_MODE',\n",
       " 'HOUSETYPE_MODE',\n",
       " 'LANDAREA_AVG',\n",
       " 'LANDAREA_MEDI',\n",
       " 'LANDAREA_MODE',\n",
       " 'LIVINGAPARTMENTS_AVG',\n",
       " 'LIVINGAPARTMENTS_MEDI',\n",
       " 'LIVINGAPARTMENTS_MODE',\n",
       " 'LIVINGAREA_AVG',\n",
       " 'LIVINGAREA_MEDI',\n",
       " 'LIVINGAREA_MODE',\n",
       " 'NAME_CONTRACT_TYPE',\n",
       " 'NAME_EDUCATION_TYPE',\n",
       " 'NAME_FAMILY_STATUS',\n",
       " 'NAME_HOUSING_TYPE',\n",
       " 'NAME_INCOME_TYPE',\n",
       " 'NAME_TYPE_SUITE',\n",
       " 'NONLIVINGAPARTMENTS_AVG',\n",
       " 'NONLIVINGAPARTMENTS_MEDI',\n",
       " 'NONLIVINGAPARTMENTS_MODE',\n",
       " 'NONLIVINGAREA_AVG',\n",
       " 'NONLIVINGAREA_MEDI',\n",
       " 'NONLIVINGAREA_MODE',\n",
       " 'OBS_30_CNT_SOCIAL_CIRCLE',\n",
       " 'OBS_60_CNT_SOCIAL_CIRCLE',\n",
       " 'OCCUPATION_TYPE',\n",
       " 'ORGANIZATION_TYPE',\n",
       " 'OWN_CAR_AGE',\n",
       " 'REGION_POPULATION_RELATIVE',\n",
       " 'TOTALAREA_MODE',\n",
       " 'WALLSMATERIAL_MODE',\n",
       " 'WEEKDAY_APPR_PROCESS_START',\n",
       " 'YEARS_BEGINEXPLUATATION_AVG',\n",
       " 'YEARS_BEGINEXPLUATATION_MEDI',\n",
       " 'YEARS_BEGINEXPLUATATION_MODE',\n",
       " 'YEARS_BUILD_AVG',\n",
       " 'YEARS_BUILD_MEDI',\n",
       " 'YEARS_BUILD_MODE',\n",
       " 'LOAN_INCOME_RATIO',\n",
       " 'ANNUITY_INCOME_RATIO',\n",
       " 'CONSUMER_GOODS_RATIO',\n",
       " 'ANNUITY LENGTH',\n",
       " 'ANN_LENGTH_EMPLOYED_RATIO',\n",
       " 'WORKING_LIFE_RATIO',\n",
       " 'INCOME_PER_FAM',\n",
       " 'CHILDREN_RATIO',\n",
       " 'PREV APP COUNT',\n",
       " 'TOTAL PREV LOAN AMT',\n",
       " 'SK_ID_PREV',\n",
       " 'AMT_ANNUITY_PRVMEAN',\n",
       " 'AMT_APPLICATION',\n",
       " 'AMT_CREDIT_PRVMEAN',\n",
       " 'AMT_DOWN_PAYMENT',\n",
       " 'AMT_GOODS_PRICE_PRVMEAN',\n",
       " 'HOUR_APPR_PROCESS_START_PRVMEAN',\n",
       " 'NFLAG_LAST_APPL_IN_DAY',\n",
       " 'RATE_DOWN_PAYMENT',\n",
       " 'DAYS_DECISION',\n",
       " 'SELLERPLACE_AREA',\n",
       " 'CNT_PAYMENT',\n",
       " 'DAYS_FIRST_DUE',\n",
       " 'DAYS_LAST_DUE_1ST_VERSION',\n",
       " 'DAYS_LAST_DUE',\n",
       " 'DAYS_TERMINATION',\n",
       " 'NFLAG_INSURED_ON_APPROVAL',\n",
       " 'ASK_AMT_RATIO',\n",
       " 'APPROVED',\n",
       " 'REFUSED',\n",
       " 'SK_ID_PREV_PRVMAX',\n",
       " 'NAME_CONTRACT_TYPE_PRVMAX',\n",
       " 'AMT_ANNUITY_PRVMAX',\n",
       " 'AMT_APPLICATION_PRVMAX',\n",
       " 'AMT_CREDIT_PRVMAX',\n",
       " 'AMT_DOWN_PAYMENT_PRVMAX',\n",
       " 'AMT_GOODS_PRICE_PRVMAX',\n",
       " 'WEEKDAY_APPR_PROCESS_START_PRVMAX',\n",
       " 'HOUR_APPR_PROCESS_START_PRVMAX',\n",
       " 'FLAG_LAST_APPL_PER_CONTRACT',\n",
       " 'NFLAG_LAST_APPL_IN_DAY_PRVMAX',\n",
       " 'RATE_DOWN_PAYMENT_PRVMAX',\n",
       " 'NAME_CASH_LOAN_PURPOSE',\n",
       " 'NAME_CONTRACT_STATUS',\n",
       " 'DAYS_DECISION_PRVMAX',\n",
       " 'NAME_PAYMENT_TYPE',\n",
       " 'CODE_REJECT_REASON',\n",
       " 'NAME_CLIENT_TYPE',\n",
       " 'NAME_GOODS_CATEGORY',\n",
       " 'NAME_PORTFOLIO',\n",
       " 'NAME_PRODUCT_TYPE',\n",
       " 'CHANNEL_TYPE',\n",
       " 'SELLERPLACE_AREA_PRVMAX',\n",
       " 'NAME_SELLER_INDUSTRY',\n",
       " 'CNT_PAYMENT_PRVMAX',\n",
       " 'NAME_YIELD_GROUP',\n",
       " 'DAYS_FIRST_DUE_PRVMAX',\n",
       " 'DAYS_LAST_DUE_1ST_VERSION_PRVMAX',\n",
       " 'DAYS_LAST_DUE_PRVMAX',\n",
       " 'DAYS_TERMINATION_PRVMAX',\n",
       " 'NFLAG_INSURED_ON_APPROVAL_PRVMAX',\n",
       " 'ASK_AMT_RATIO_PRVMAX',\n",
       " 'APPROVED_PRVMAX',\n",
       " 'REFUSED_PRVMAX',\n",
       " 'SK_ID_PREV_PRVMIN',\n",
       " 'NAME_CONTRACT_TYPE_PRVMIN',\n",
       " 'AMT_ANNUITY_PRVMIN',\n",
       " 'AMT_APPLICATION_PRVMIN',\n",
       " 'AMT_CREDIT_PRVMIN',\n",
       " 'AMT_DOWN_PAYMENT_PRVMIN',\n",
       " 'AMT_GOODS_PRICE_PRVMIN',\n",
       " 'WEEKDAY_APPR_PROCESS_START_PRVMIN',\n",
       " 'HOUR_APPR_PROCESS_START_PRVMIN',\n",
       " 'FLAG_LAST_APPL_PER_CONTRACT_PRVMIN',\n",
       " 'NFLAG_LAST_APPL_IN_DAY_PRVMIN',\n",
       " 'RATE_DOWN_PAYMENT_PRVMIN',\n",
       " 'NAME_CASH_LOAN_PURPOSE_PRVMIN',\n",
       " 'NAME_CONTRACT_STATUS_PRVMIN',\n",
       " 'DAYS_DECISION_PRVMIN',\n",
       " 'NAME_PAYMENT_TYPE_PRVMIN',\n",
       " 'CODE_REJECT_REASON_PRVMIN',\n",
       " 'NAME_CLIENT_TYPE_PRVMIN',\n",
       " 'NAME_GOODS_CATEGORY_PRVMIN',\n",
       " 'NAME_PORTFOLIO_PRVMIN',\n",
       " 'NAME_PRODUCT_TYPE_PRVMIN',\n",
       " 'CHANNEL_TYPE_PRVMIN',\n",
       " 'SELLERPLACE_AREA_PRVMIN',\n",
       " 'NAME_SELLER_INDUSTRY_PRVMIN',\n",
       " 'CNT_PAYMENT_PRVMIN',\n",
       " 'NAME_YIELD_GROUP_PRVMIN',\n",
       " 'DAYS_FIRST_DUE_PRVMIN',\n",
       " 'DAYS_LAST_DUE_1ST_VERSION_PRVMIN',\n",
       " 'DAYS_LAST_DUE_PRVMIN',\n",
       " 'DAYS_TERMINATION_PRVMIN',\n",
       " 'NFLAG_INSURED_ON_APPROVAL_PRVMIN',\n",
       " 'ASK_AMT_RATIO_PRVMIN',\n",
       " 'APPROVED_PRVMIN',\n",
       " 'REFUSED_PRVMIN',\n",
       " 'NAME_CONTRACT_TYPE_BAVG',\n",
       " 'WEEKDAY_APPR_PROCESS_START_BAVG',\n",
       " 'FLAG_LAST_APPL_PER_CONTRACT_BAVG',\n",
       " 'NAME_CASH_LOAN_PURPOSE_BAVG',\n",
       " 'NAME_CONTRACT_STATUS_BAVG',\n",
       " 'NAME_PAYMENT_TYPE_BAVG',\n",
       " 'CODE_REJECT_REASON_BAVG',\n",
       " 'NAME_TYPE_SUITE_BAVG',\n",
       " 'NAME_CLIENT_TYPE_BAVG',\n",
       " 'NAME_GOODS_CATEGORY_BAVG',\n",
       " 'NAME_PORTFOLIO_BAVG',\n",
       " 'NAME_PRODUCT_TYPE_BAVG',\n",
       " 'CHANNEL_TYPE_BAVG',\n",
       " 'NAME_SELLER_INDUSTRY_BAVG',\n",
       " 'NAME_YIELD_GROUP_BAVG',\n",
       " 'PRODUCT_COMBINATION',\n",
       " 'NAME_CONTRACT_STATUS_CCAVG',\n",
       " 'SK_ID_BUREAU',\n",
       " 'DAYS_CREDIT',\n",
       " 'CREDIT_DAY_OVERDUE',\n",
       " 'DAYS_CREDIT_ENDDATE',\n",
       " 'DAYS_ENDDATE_FACT',\n",
       " 'AMT_CREDIT_MAX_OVERDUE',\n",
       " 'CNT_CREDIT_PROLONG',\n",
       " 'AMT_CREDIT_SUM',\n",
       " 'AMT_CREDIT_SUM_DEBT',\n",
       " 'AMT_CREDIT_SUM_LIMIT',\n",
       " 'AMT_CREDIT_SUM_OVERDUE',\n",
       " 'DAYS_CREDIT_UPDATE',\n",
       " 'AMT_ANNUITY_BMEAN',\n",
       " 'SK_ID_BUREAU_BMAX',\n",
       " 'CREDIT_ACTIVE',\n",
       " 'CREDIT_CURRENCY',\n",
       " 'DAYS_CREDIT_BMAX',\n",
       " 'CREDIT_DAY_OVERDUE_BMAX',\n",
       " 'DAYS_CREDIT_ENDDATE_BMAX',\n",
       " 'DAYS_ENDDATE_FACT_BMAX',\n",
       " 'AMT_CREDIT_MAX_OVERDUE_BMAX',\n",
       " 'CNT_CREDIT_PROLONG_BMAX',\n",
       " 'AMT_CREDIT_SUM_BMAX',\n",
       " 'AMT_CREDIT_SUM_DEBT_BMAX',\n",
       " 'AMT_CREDIT_SUM_LIMIT_BMAX',\n",
       " 'AMT_CREDIT_SUM_OVERDUE_BMAX',\n",
       " 'CREDIT_TYPE',\n",
       " 'DAYS_CREDIT_UPDATE_BMAX',\n",
       " 'AMT_ANNUITY_BMAX',\n",
       " 'SK_ID_BUREAU_BMIN',\n",
       " 'CREDIT_ACTIVE_BMIN',\n",
       " 'CREDIT_CURRENCY_BMIN',\n",
       " 'DAYS_CREDIT_BMIN',\n",
       " 'CREDIT_DAY_OVERDUE_BMIN',\n",
       " 'DAYS_CREDIT_ENDDATE_BMIN',\n",
       " 'DAYS_ENDDATE_FACT_BMIN',\n",
       " 'AMT_CREDIT_MAX_OVERDUE_BMIN',\n",
       " 'CNT_CREDIT_PROLONG_BMIN',\n",
       " 'AMT_CREDIT_SUM_BMIN',\n",
       " 'AMT_CREDIT_SUM_DEBT_BMIN',\n",
       " 'AMT_CREDIT_SUM_LIMIT_BMIN',\n",
       " 'AMT_CREDIT_SUM_OVERDUE_BMIN',\n",
       " 'CREDIT_TYPE_BMIN',\n",
       " 'DAYS_CREDIT_UPDATE_BMIN',\n",
       " 'AMT_ANNUITY_BMIN',\n",
       " 'CREDIT_ACTIVE_BAVG',\n",
       " 'CREDIT_CURRENCY_BAVG',\n",
       " 'CREDIT_TYPE_BAVG',\n",
       " 'STATUS',\n",
       " 'CNT_INSTALMENT',\n",
       " 'CNT_INSTALMENT_FUTURE',\n",
       " 'SK_DPD_CAVG',\n",
       " 'SK_DPD_DEF_CAVG',\n",
       " 'SK_ID_PREV_PCMEAN',\n",
       " 'MONTHS_BALANCE_PCMEAN',\n",
       " 'CNT_INSTALMENT_PCMEAN',\n",
       " 'CNT_INSTALMENT_FUTURE_PCMEAN',\n",
       " 'SK_DPD_PCMEAN',\n",
       " 'SK_DPD_DEF_PCMEAN',\n",
       " 'SK_ID_PREV_PCMAX',\n",
       " 'MONTHS_BALANCE_PCMAX',\n",
       " 'CNT_INSTALMENT_PCMAX',\n",
       " 'CNT_INSTALMENT_FUTURE_PCMAX',\n",
       " 'NAME_CONTRACT_STATUS_PCMAX',\n",
       " 'SK_DPD_PCMAX',\n",
       " 'SK_DPD_DEF_PCMAX',\n",
       " 'SK_ID_PREV_PCMIN',\n",
       " 'MONTHS_BALANCE_PCMIN',\n",
       " 'CNT_INSTALMENT_PCMIN',\n",
       " 'CNT_INSTALMENT_FUTURE_PCMIN',\n",
       " 'NAME_CONTRACT_STATUS_PCMIN',\n",
       " 'SK_DPD_PCMIN',\n",
       " 'SK_DPD_DEF_PCMIN',\n",
       " 'NAME_CONTRACT_STATUS_CAVG',\n",
       " 'SK_ID_PREV_IMEAN',\n",
       " 'NUM_INSTALMENT_VERSION',\n",
       " 'NUM_INSTALMENT_NUMBER',\n",
       " 'DAYS_INSTALMENT',\n",
       " 'DAYS_ENTRY_PAYMENT',\n",
       " 'AMT_INSTALMENT',\n",
       " 'AMT_PAYMENT',\n",
       " 'DAYS_INSTALLMENT_LATE',\n",
       " 'PAYMENT_DISCREPANCY',\n",
       " 'SK_ID_PREV_IMAX',\n",
       " 'NUM_INSTALMENT_VERSION_IMAX',\n",
       " 'NUM_INSTALMENT_NUMBER_IMAX',\n",
       " 'DAYS_INSTALMENT_IMAX',\n",
       " 'DAYS_ENTRY_PAYMENT_IMAX',\n",
       " 'AMT_INSTALMENT_IMAX',\n",
       " 'AMT_PAYMENT_IMAX',\n",
       " 'DAYS_INSTALLMENT_LATE_IMAX',\n",
       " 'PAYMENT_DISCREPANCY_IMAX',\n",
       " 'SK_ID_PREV_IMIN',\n",
       " 'NUM_INSTALMENT_VERSION_IMIN',\n",
       " 'NUM_INSTALMENT_NUMBER_IMIN',\n",
       " 'DAYS_INSTALMENT_IMIN',\n",
       " 'DAYS_ENTRY_PAYMENT_IMIN',\n",
       " 'AMT_INSTALMENT_IMIN',\n",
       " 'AMT_PAYMENT_IMIN',\n",
       " 'DAYS_INSTALLMENT_LATE_IMIN',\n",
       " 'PAYMENT_DISCREPANCY_IMIN',\n",
       " 'SK_ID_CURR_CNT_BUREAU',\n",
       " 'SK_ID_CURR_CNT_POS_CASH',\n",
       " 'SK_ID_CURR_CNT_INSTALL',\n",
       " 'RATIO_TO_PREV_AMTS',\n",
       " 'CNT_CHILDREN',\n",
       " 'FLAG_CONT_MOBILE',\n",
       " 'FLAG_DOCUMENT_10',\n",
       " 'FLAG_DOCUMENT_11',\n",
       " 'FLAG_DOCUMENT_12',\n",
       " 'FLAG_DOCUMENT_13',\n",
       " 'FLAG_DOCUMENT_14',\n",
       " 'FLAG_DOCUMENT_15',\n",
       " 'FLAG_DOCUMENT_16',\n",
       " 'FLAG_DOCUMENT_17',\n",
       " 'FLAG_DOCUMENT_18',\n",
       " 'FLAG_DOCUMENT_19',\n",
       " 'FLAG_DOCUMENT_2',\n",
       " 'FLAG_DOCUMENT_20',\n",
       " 'FLAG_DOCUMENT_21',\n",
       " 'FLAG_DOCUMENT_3',\n",
       " 'FLAG_DOCUMENT_4',\n",
       " 'FLAG_DOCUMENT_5',\n",
       " 'FLAG_DOCUMENT_6',\n",
       " 'FLAG_DOCUMENT_7',\n",
       " 'FLAG_DOCUMENT_8',\n",
       " 'FLAG_DOCUMENT_9',\n",
       " 'FLAG_EMAIL',\n",
       " 'FLAG_EMP_PHONE',\n",
       " 'FLAG_MOBIL',\n",
       " 'FLAG_PHONE',\n",
       " 'FLAG_WORK_PHONE',\n",
       " 'HOUR_APPR_PROCESS_START',\n",
       " 'LIVE_CITY_NOT_WORK_CITY',\n",
       " 'LIVE_REGION_NOT_WORK_REGION',\n",
       " 'REGION_RATING_CLIENT',\n",
       " 'REGION_RATING_CLIENT_W_CITY',\n",
       " 'REG_CITY_NOT_LIVE_CITY',\n",
       " 'REG_CITY_NOT_WORK_CITY',\n",
       " 'REG_REGION_NOT_LIVE_REGION',\n",
       " 'REG_REGION_NOT_WORK_REGION',\n",
       " 'TOTAL_DOCS_SUBMITTED',\n",
       " 'RATE_INTEREST_PRIVILEGED_PRVMAX',\n",
       " 'RATE_INTEREST_PRIMARY_PRVMAX',\n",
       " 'RATE_INTEREST_PRIMARY_PRVMIN',\n",
       " 'RATE_INTEREST_PRIVILEGED_PRVMIN',\n",
       " 'RATE_INTEREST_PRIVILEGED',\n",
       " 'RATE_INTEREST_PRIMARY',\n",
       " 'AMT_PAYMENT_CURRENT_CCMIN',\n",
       " 'AMT_PAYMENT_CURRENT_CCMEAN',\n",
       " 'AMT_PAYMENT_CURRENT',\n",
       " 'AMT_PAYMENT_CURRENT_CCMAX',\n",
       " 'AMT_DRAWINGS_OTHER_CURRENT_CCMEAN',\n",
       " 'CNT_DRAWINGS_OTHER_CURRENT_CCMAX',\n",
       " 'AMT_DRAWINGS_POS_CURRENT_CCMAX',\n",
       " 'CNT_DRAWINGS_ATM_CURRENT_CCMAX',\n",
       " 'AMT_DRAWINGS_POS_CURRENT_CCMIN',\n",
       " 'AMT_DRAWINGS_ATM_CURRENT_CCMIN',\n",
       " 'AMT_DRAWINGS_OTHER_CURRENT_CCMIN',\n",
       " 'AMT_DRAWINGS_ATM_CURRENT_CCMAX',\n",
       " 'CNT_DRAWINGS_ATM_CURRENT_CCMIN',\n",
       " 'AMT_DRAWINGS_OTHER_CURRENT_CCMAX',\n",
       " 'AMT_DRAWINGS_POS_CURRENT_CCMEAN',\n",
       " 'CNT_DRAWINGS_POS_CURRENT_CCMEAN',\n",
       " 'CNT_DRAWINGS_OTHER_CURRENT_CCMEAN',\n",
       " 'CNT_DRAWINGS_ATM_CURRENT_CCMEAN',\n",
       " 'CNT_DRAWINGS_POS_CURRENT_CCMIN',\n",
       " 'AMT_DRAWINGS_ATM_CURRENT_CCMEAN',\n",
       " 'CNT_DRAWINGS_POS_CURRENT',\n",
       " 'CNT_DRAWINGS_OTHER_CURRENT',\n",
       " 'CNT_DRAWINGS_ATM_CURRENT',\n",
       " 'AMT_DRAWINGS_POS_CURRENT',\n",
       " 'AMT_DRAWINGS_OTHER_CURRENT',\n",
       " 'AMT_DRAWINGS_ATM_CURRENT',\n",
       " 'CNT_DRAWINGS_OTHER_CURRENT_CCMIN',\n",
       " 'CNT_DRAWINGS_POS_CURRENT_CCMAX',\n",
       " 'MONTHS_BALANCE_B_B',\n",
       " 'DAYS_FIRST_DRAWING',\n",
       " 'DAYS_FIRST_DRAWING_PRVMIN',\n",
       " 'DAYS_FIRST_DRAWING_PRVMAX',\n",
       " 'CNT_INSTALMENT_MATURE_CUM_CCMAX',\n",
       " 'CNT_INSTALMENT_MATURE_CUM',\n",
       " 'AMT_INST_MIN_REGULARITY_CCMAX',\n",
       " 'AMT_INST_MIN_REGULARITY_CCMIN',\n",
       " 'AMT_INST_MIN_REGULARITY',\n",
       " 'AMT_INST_MIN_REGULARITY_CCMEAN',\n",
       " 'CNT_INSTALMENT_MATURE_CUM_CCMEAN',\n",
       " 'CNT_INSTALMENT_MATURE_CUM_CCMIN',\n",
       " 'BALANCE_TO_ANNUITY_RATIO',\n",
       " 'MONTHS_BALANCE_CCMAX',\n",
       " 'AMT_TOTAL_RECEIVABLE_CCMAX',\n",
       " 'AMT_BALANCE_CCMAX',\n",
       " 'AMT_CREDIT_LIMIT_ACTUAL_CCMAX',\n",
       " 'AMT_DRAWINGS_CURRENT_CCMAX',\n",
       " 'SK_DPD_DEF_CCMEAN',\n",
       " 'AMT_PAYMENT_TOTAL_CURRENT_CCMAX',\n",
       " 'AMT_RECEIVABLE_PRINCIPAL_CCMAX',\n",
       " 'SK_DPD_CCMEAN',\n",
       " 'AMT_RECIVABLE_CCMAX',\n",
       " 'SK_ID_PREV_CCMAX',\n",
       " 'CNT_DRAWINGS_CURRENT_CCMAX',\n",
       " 'SK_DPD_CCMAX',\n",
       " 'AMT_TOTAL_RECEIVABLE_CCMEAN',\n",
       " 'SK_DPD_DEF_CCMAX',\n",
       " 'SK_ID_PREV_CCMIN',\n",
       " 'MONTHS_BALANCE_CCMIN',\n",
       " 'AMT_BALANCE_CCMIN',\n",
       " 'AMT_CREDIT_LIMIT_ACTUAL_CCMIN',\n",
       " 'AMT_DRAWINGS_CURRENT_CCMIN',\n",
       " 'AMT_PAYMENT_TOTAL_CURRENT_CCMIN',\n",
       " 'AMT_RECEIVABLE_PRINCIPAL_CCMIN',\n",
       " 'AMT_RECIVABLE_CCMIN',\n",
       " 'AMT_TOTAL_RECEIVABLE_CCMIN',\n",
       " 'CNT_DRAWINGS_CURRENT_CCMIN',\n",
       " 'CNT_DRAWINGS_CURRENT_CCMEAN',\n",
       " 'AMT_PAYMENT_TOTAL_CURRENT_CCMEAN',\n",
       " 'AMT_RECIVABLE_CCMEAN',\n",
       " 'CNT_DRAWINGS_CURRENT',\n",
       " 'SK_ID_CURR_CNT_CRED_CARD',\n",
       " 'SK_ID_PREV_CC_WAVG',\n",
       " 'MONTHS_BALANCE',\n",
       " 'AMT_BALANCE',\n",
       " 'AMT_CREDIT_LIMIT_ACTUAL',\n",
       " 'AMT_DRAWINGS_CURRENT',\n",
       " 'AMT_PAYMENT_TOTAL_CURRENT',\n",
       " 'AMT_RECEIVABLE_PRINCIPAL',\n",
       " 'AMT_RECEIVABLE_PRINCIPAL_CCMEAN',\n",
       " 'AMT_RECIVABLE',\n",
       " 'AMT_TOTAL_RECEIVABLE',\n",
       " 'SK_DPD_CCMIN',\n",
       " 'SK_DPD',\n",
       " 'MONTHS_BALANCE_CCMEAN',\n",
       " 'SK_DPD_DEF_CCMIN',\n",
       " 'AMT_DRAWINGS_CURRENT_CCMEAN',\n",
       " 'SK_DPD_DEF',\n",
       " 'AMT_BALANCE_CCMEAN',\n",
       " 'AMT_CREDIT_LIMIT_ACTUAL_CCMEAN',\n",
       " 'SK_ID_PREV_CCMEAN',\n",
       " 'TARGET']"
      ]
     },
     "execution_count": 10,
     "metadata": {},
     "output_type": "execute_result"
    }
   ],
   "source": [
    "predict_hf.columns"
   ]
  },
  {
   "cell_type": "code",
   "execution_count": 11,
   "metadata": {},
   "outputs": [],
   "source": [
    "#drop undesire columns\n",
    "train_hf =train_hf.drop('C1')\n",
    "train_hf =train_hf.drop('Unnamed: 0')\n",
    "\n",
    "test_hf =test_hf.drop('C1')\n",
    "test_hf =test_hf.drop('Unnamed: 0')\n",
    "\n",
    "predict_hf =predict_hf.drop('C1')"
   ]
  },
  {
   "cell_type": "code",
   "execution_count": 12,
   "metadata": {},
   "outputs": [],
   "source": [
    "# Identify predictors and response\n",
    "x = train_hf.columns\n",
    "\n",
    "\n",
    "y = \"TARGET\"\n",
    "x.remove(y)\n",
    "\n",
    "# For binary classification, response should be a factor\n",
    "\n",
    "#train_hf[y] = train_hf[y].asfactor()\n",
    "#test_hf[y] = test_hf[y].asfactor()"
   ]
  },
  {
   "cell_type": "code",
   "execution_count": 13,
   "metadata": {
    "scrolled": false
   },
   "outputs": [],
   "source": [
    "#aml = H2OAutoML(max_runtime_secs = 25200)\n",
    "#aml.train(x = x, y = y,\n",
    "#          training_frame = train_hf\n",
    "#         )\n",
    "#aml.leaderboard\n"
   ]
  },
  {
   "cell_type": "code",
   "execution_count": 14,
   "metadata": {},
   "outputs": [],
   "source": [
    "# Number of CV folds (to generate level-one data for stacking)\n",
    "nfolds = 5"
   ]
  },
  {
   "cell_type": "code",
   "execution_count": 15,
   "metadata": {},
   "outputs": [
    {
     "name": "stdout",
     "output_type": "stream",
     "text": [
      "gbm Model Build progress: |███████████████████████████████████████████████| 100%\n"
     ]
    }
   ],
   "source": [
    "my_gbm = H2OGradientBoostingEstimator(ntrees=10,\n",
    "                                      max_depth=3,\n",
    "                                      min_rows=2,\n",
    "                                      learn_rate=0.2,\n",
    "                                      nfolds=nfolds,\n",
    "                                      fold_assignment=\"Modulo\",\n",
    "                                      balance_classes = True,\n",
    "                                      keep_cross_validation_predictions=True,\n",
    "                                      stopping_metric = \"AUC\",\n",
    "                                      seed=1)\n",
    "my_gbm.train(x=x, y=y, training_frame=train_hf)\n"
   ]
  },
  {
   "cell_type": "code",
   "execution_count": 16,
   "metadata": {},
   "outputs": [
    {
     "name": "stdout",
     "output_type": "stream",
     "text": [
      "\n",
      "ModelMetricsRegression: gbm\n",
      "** Reported on train data. **\n",
      "\n",
      "MSE: 0.06983625953188011\n",
      "RMSE: 0.26426550953894856\n",
      "MAE: 0.14196945099212288\n",
      "RMSLE: 0.18374713301091475\n",
      "Mean Residual Deviance: 0.06983625953188011\n"
     ]
    },
    {
     "data": {
      "text/plain": []
     },
     "execution_count": 16,
     "metadata": {},
     "output_type": "execute_result"
    }
   ],
   "source": [
    "perf_gbm = my_gbm.model_performance(train=True)\n",
    "perf_gbm"
   ]
  },
  {
   "cell_type": "code",
   "execution_count": 17,
   "metadata": {},
   "outputs": [],
   "source": [
    "model_pathGBM = h2o.save_model(model=my_gbm ,force=True)"
   ]
  },
  {
   "cell_type": "code",
   "execution_count": 18,
   "metadata": {},
   "outputs": [],
   "source": [
    "#pred = my_gbm.predict(predict_hf)\n",
    "#pred\n"
   ]
  },
  {
   "cell_type": "code",
   "execution_count": 19,
   "metadata": {},
   "outputs": [
    {
     "name": "stdout",
     "output_type": "stream",
     "text": [
      "drf Model Build progress: |███████████████████████████████████████████████| 100%\n",
      "stackedensemble Model Build progress: |███████████████████████████████████| 100%\n"
     ]
    }
   ],
   "source": [
    "# Train and cross-validate a RF\n",
    "my_rf = H2ORandomForestEstimator(ntrees=50,\n",
    "                                 nfolds=nfolds,\n",
    "                                 fold_assignment=\"Modulo\",\n",
    "                                 balance_classes = True,\n",
    "                                 keep_cross_validation_predictions=True,\n",
    "                                 stopping_metric = \"AUC\",\n",
    "                                 seed=1)\n",
    "my_rf.train(x=x, y=y, training_frame=train_hf)\n",
    "\n",
    "\n",
    "# Train a stacked ensemble using the GBM and GLM above\n",
    "ensemble = H2OStackedEnsembleEstimator(model_id=\"my_ensemble_binomial\",\n",
    "                                       base_models=[my_gbm, my_rf])\n",
    "ensemble.train(x=x, y=y, training_frame=train_hf)\n"
   ]
  },
  {
   "cell_type": "code",
   "execution_count": 20,
   "metadata": {},
   "outputs": [],
   "source": [
    "model_pathRF = h2o.save_model(model=my_rf ,force=True)\n",
    "model_pathStack = h2o.save_model(model=ensemble ,force=True)"
   ]
  },
  {
   "cell_type": "code",
   "execution_count": 21,
   "metadata": {},
   "outputs": [],
   "source": [
    "#ensemble = h2o.load_model('my_ensemble_binomial')"
   ]
  },
  {
   "cell_type": "code",
   "execution_count": 22,
   "metadata": {},
   "outputs": [
    {
     "name": "stdout",
     "output_type": "stream",
     "text": [
      "\n",
      "ModelMetricsRegression: gbm\n",
      "** Reported on test data. **\n",
      "\n",
      "MSE: 0.0700860035493424\n",
      "RMSE: 0.2647376126456957\n",
      "MAE: 0.14239889031168884\n",
      "RMSLE: 0.1841870808025383\n",
      "Mean Residual Deviance: 0.0700860035493424\n"
     ]
    },
    {
     "data": {
      "text/plain": []
     },
     "execution_count": 22,
     "metadata": {},
     "output_type": "execute_result"
    }
   ],
   "source": [
    "# Eval ensemble performance on the test data\n",
    "perf_stack_test = ensemble.model_performance(test_hf)\n",
    "\n",
    "# Compare to base learner performance on the test set\n",
    "perf_gbm_test = my_gbm.model_performance(test_hf)\n",
    "\n",
    "perf_gbm_test\n",
    "\n",
    "\n"
   ]
  },
  {
   "cell_type": "code",
   "execution_count": 16,
   "metadata": {},
   "outputs": [
    {
     "ename": "KeyError",
     "evalue": "'AUC'",
     "output_type": "error",
     "traceback": [
      "\u001b[1;31m---------------------------------------------------------------------------\u001b[0m",
      "\u001b[1;31mKeyError\u001b[0m                                  Traceback (most recent call last)",
      "\u001b[1;32m<ipython-input-16-2d384d8a7367>\u001b[0m in \u001b[0;36m<module>\u001b[1;34m()\u001b[0m\n\u001b[0;32m      1\u001b[0m \u001b[0mperf_rf_test\u001b[0m \u001b[1;33m=\u001b[0m \u001b[0mmy_rf\u001b[0m\u001b[1;33m.\u001b[0m\u001b[0mmodel_performance\u001b[0m\u001b[1;33m(\u001b[0m\u001b[0mtest_hf\u001b[0m\u001b[1;33m)\u001b[0m\u001b[1;33m\u001b[0m\u001b[0m\n\u001b[1;32m----> 2\u001b[1;33m \u001b[0mbaselearner_best_auc_test\u001b[0m \u001b[1;33m=\u001b[0m \u001b[0mmax\u001b[0m\u001b[1;33m(\u001b[0m\u001b[0mperf_gbm_test\u001b[0m\u001b[1;33m.\u001b[0m\u001b[0mauc\u001b[0m\u001b[1;33m(\u001b[0m\u001b[1;33m)\u001b[0m\u001b[1;33m,\u001b[0m \u001b[0mperf_rf_test\u001b[0m\u001b[1;33m.\u001b[0m\u001b[0mauc\u001b[0m\u001b[1;33m(\u001b[0m\u001b[1;33m)\u001b[0m\u001b[1;33m)\u001b[0m\u001b[1;33m\u001b[0m\u001b[0m\n\u001b[0m\u001b[0;32m      3\u001b[0m \u001b[0mstack_auc_test\u001b[0m \u001b[1;33m=\u001b[0m \u001b[0mperf_stack_test\u001b[0m\u001b[1;33m.\u001b[0m\u001b[0mauc\u001b[0m\u001b[1;33m(\u001b[0m\u001b[1;33m)\u001b[0m\u001b[1;33m\u001b[0m\u001b[0m\n\u001b[0;32m      4\u001b[0m \u001b[0mprint\u001b[0m\u001b[1;33m(\u001b[0m\u001b[1;34m\"Best Base-learner Test AUC:  {0}\"\u001b[0m\u001b[1;33m.\u001b[0m\u001b[0mformat\u001b[0m\u001b[1;33m(\u001b[0m\u001b[0mbaselearner_best_auc_test\u001b[0m\u001b[1;33m)\u001b[0m\u001b[1;33m)\u001b[0m\u001b[1;33m\u001b[0m\u001b[0m\n\u001b[0;32m      5\u001b[0m \u001b[0mprint\u001b[0m\u001b[1;33m(\u001b[0m\u001b[1;34m\"Ensemble Test AUC:  {0}\"\u001b[0m\u001b[1;33m.\u001b[0m\u001b[0mformat\u001b[0m\u001b[1;33m(\u001b[0m\u001b[0mstack_auc_test\u001b[0m\u001b[1;33m)\u001b[0m\u001b[1;33m)\u001b[0m\u001b[1;33m\u001b[0m\u001b[0m\n",
      "\u001b[1;32m~\\Anaconda3\\lib\\site-packages\\h2o\\model\\metrics_base.py\u001b[0m in \u001b[0;36mauc\u001b[1;34m(self)\u001b[0m\n\u001b[0;32m    157\u001b[0m     \u001b[1;32mdef\u001b[0m \u001b[0mauc\u001b[0m\u001b[1;33m(\u001b[0m\u001b[0mself\u001b[0m\u001b[1;33m)\u001b[0m\u001b[1;33m:\u001b[0m\u001b[1;33m\u001b[0m\u001b[0m\n\u001b[0;32m    158\u001b[0m         \u001b[1;34m\"\"\"The AUC for this set of metrics.\"\"\"\u001b[0m\u001b[1;33m\u001b[0m\u001b[0m\n\u001b[1;32m--> 159\u001b[1;33m         \u001b[1;32mreturn\u001b[0m \u001b[0mself\u001b[0m\u001b[1;33m.\u001b[0m\u001b[0m_metric_json\u001b[0m\u001b[1;33m[\u001b[0m\u001b[1;34m'AUC'\u001b[0m\u001b[1;33m]\u001b[0m\u001b[1;33m\u001b[0m\u001b[0m\n\u001b[0m\u001b[0;32m    160\u001b[0m \u001b[1;33m\u001b[0m\u001b[0m\n\u001b[0;32m    161\u001b[0m \u001b[1;33m\u001b[0m\u001b[0m\n",
      "\u001b[1;31mKeyError\u001b[0m: 'AUC'"
     ]
    }
   ],
   "source": [
    "perf_rf_test = my_rf.model_performance(test_hf)\n",
    "baselearner_best_auc_test = max(perf_gbm_test.auc(), perf_rf_test.auc())\n",
    "stack_auc_test = perf_stack_test.auc()\n",
    "print(\"Best Base-learner Test AUC:  {0}\".format(baselearner_best_auc_test))\n",
    "print(\"Ensemble Test AUC:  {0}\".format(stack_auc_test))"
   ]
  },
  {
   "cell_type": "code",
   "execution_count": 23,
   "metadata": {},
   "outputs": [
    {
     "data": {
      "text/plain": [
       "(61503, 438)"
      ]
     },
     "execution_count": 23,
     "metadata": {},
     "output_type": "execute_result"
    }
   ],
   "source": [
    "test_hf.shape"
   ]
  },
  {
   "cell_type": "code",
   "execution_count": 24,
   "metadata": {},
   "outputs": [
    {
     "name": "stdout",
     "output_type": "stream",
     "text": [
      "stackedensemble prediction progress: |████████████████████████████████████| 100%\n"
     ]
    }
   ],
   "source": [
    "pred = ensemble.predict(predict_hf)"
   ]
  },
  {
   "cell_type": "code",
   "execution_count": 25,
   "metadata": {},
   "outputs": [
    {
     "data": {
      "text/plain": [
       "(48744, 1)"
      ]
     },
     "execution_count": 25,
     "metadata": {},
     "output_type": "execute_result"
    }
   ],
   "source": [
    "pred.shape"
   ]
  },
  {
   "cell_type": "code",
   "execution_count": 26,
   "metadata": {},
   "outputs": [
    {
     "data": {
      "text/plain": [
       "['predict']"
      ]
     },
     "execution_count": 26,
     "metadata": {},
     "output_type": "execute_result"
    }
   ],
   "source": [
    "pred.columns"
   ]
  },
  {
   "cell_type": "code",
   "execution_count": 27,
   "metadata": {},
   "outputs": [
    {
     "data": {
      "text/html": [
       "<table>\n",
       "<thead>\n",
       "<tr><th style=\"text-align: right;\">  predict</th></tr>\n",
       "</thead>\n",
       "<tbody>\n",
       "<tr><td style=\"text-align: right;\">0.0602848</td></tr>\n",
       "<tr><td style=\"text-align: right;\">0.0900025</td></tr>\n",
       "<tr><td style=\"text-align: right;\">0.0158962</td></tr>\n",
       "<tr><td style=\"text-align: right;\">0.0451389</td></tr>\n",
       "<tr><td style=\"text-align: right;\">0.0926713</td></tr>\n",
       "<tr><td style=\"text-align: right;\">0.0332346</td></tr>\n",
       "<tr><td style=\"text-align: right;\">0.0294519</td></tr>\n",
       "<tr><td style=\"text-align: right;\">0.0592977</td></tr>\n",
       "<tr><td style=\"text-align: right;\">0.0174415</td></tr>\n",
       "<tr><td style=\"text-align: right;\">0.175248 </td></tr>\n",
       "</tbody>\n",
       "</table>"
      ]
     },
     "metadata": {},
     "output_type": "display_data"
    },
    {
     "data": {
      "text/plain": []
     },
     "execution_count": 27,
     "metadata": {},
     "output_type": "execute_result"
    }
   ],
   "source": [
    "pred"
   ]
  },
  {
   "cell_type": "code",
   "execution_count": 28,
   "metadata": {},
   "outputs": [],
   "source": [
    "pd = pred.as_data_frame()\n",
    "dfPred = pd['predict'].tolist()"
   ]
  },
  {
   "cell_type": "code",
   "execution_count": 31,
   "metadata": {},
   "outputs": [
    {
     "data": {
      "text/plain": [
       "Index(['Unnamed: 0', 'SK_ID_CURR'], dtype='object')"
      ]
     },
     "execution_count": 31,
     "metadata": {},
     "output_type": "execute_result"
    }
   ],
   "source": [
    "meta_df = pd.read_csv(\"meta_df.csv\")\n",
    "meta_df.columns"
   ]
  },
  {
   "cell_type": "code",
   "execution_count": 32,
   "metadata": {},
   "outputs": [],
   "source": [
    "ids = meta_df['SK_ID_CURR'][307511:].tolist()"
   ]
  },
  {
   "cell_type": "code",
   "execution_count": 33,
   "metadata": {},
   "outputs": [],
   "source": [
    "out_df = pd.DataFrame({'SK_ID_CURR': ids, 'TARGET': dfPred})\n",
    "out_df.to_csv('submission-Stack.csv', index=False)"
   ]
  },
  {
   "cell_type": "code",
   "execution_count": 39,
   "metadata": {},
   "outputs": [
    {
     "name": "stdout",
     "output_type": "stream",
     "text": [
      "deeplearning Model Build progress: |██████████████████████████████████████| 100%\n"
     ]
    }
   ],
   "source": [
    "from h2o.estimators.deeplearning import H2ODeepLearningEstimator\n",
    "model = H2ODeepLearningEstimator()\n",
    "model.train(x=x, y=y, training_frame=train_hf)\n",
    "\n",
    "\n"
   ]
  },
  {
   "cell_type": "code",
   "execution_count": 40,
   "metadata": {},
   "outputs": [
    {
     "name": "stdout",
     "output_type": "stream",
     "text": [
      "\n",
      "ModelMetricsRegression: deeplearning\n",
      "** Reported on test data. **\n",
      "\n",
      "MSE: 0.0728139662540467\n",
      "RMSE: 0.2698406312141422\n",
      "MAE: 0.14255725385074933\n",
      "RMSLE: NaN\n",
      "Mean Residual Deviance: 0.0728139662540467\n"
     ]
    },
    {
     "data": {
      "text/plain": []
     },
     "execution_count": 40,
     "metadata": {},
     "output_type": "execute_result"
    }
   ],
   "source": [
    "perf_model_test = model.model_performance(test_hf)\n",
    "\n",
    "perf_model_test\n"
   ]
  },
  {
   "cell_type": "code",
   "execution_count": null,
   "metadata": {},
   "outputs": [],
   "source": []
  }
 ],
 "metadata": {
  "kernelspec": {
   "display_name": "Python 3",
   "language": "python",
   "name": "python3"
  },
  "language_info": {
   "codemirror_mode": {
    "name": "ipython",
    "version": 3
   },
   "file_extension": ".py",
   "mimetype": "text/x-python",
   "name": "python",
   "nbconvert_exporter": "python",
   "pygments_lexer": "ipython3",
   "version": "3.6.5"
  }
 },
 "nbformat": 4,
 "nbformat_minor": 2
}
